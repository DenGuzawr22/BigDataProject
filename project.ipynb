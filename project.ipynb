{
 "cells": [
  {
   "cell_type": "markdown",
   "metadata": {},
   "source": [
    "# Big Data Project"
   ]
  },
  {
   "cell_type": "markdown",
   "metadata": {},
   "source": [
    "## Configuration"
   ]
  },
  {
   "cell_type": "code",
   "execution_count": 1,
   "metadata": {
    "execution": {
     "iopub.execute_input": "2023-01-26T17:33:30.313424Z",
     "iopub.status.busy": "2023-01-26T17:33:30.313160Z",
     "iopub.status.idle": "2023-01-26T17:33:30.333428Z",
     "shell.execute_reply": "2023-01-26T17:33:30.332788Z",
     "shell.execute_reply.started": "2023-01-26T17:33:30.313386Z"
    },
    "tags": []
   },
   "outputs": [
    {
     "data": {
      "text/html": [
       "Current session configs: <tt>{'executorMemory': '8G', 'numExecutors': 2, 'executorCores': 3, 'conf': {'spark.dynamicAllocation.enabled': 'false'}, 'proxyUser': 'assumed-role_voclabs_user2193318_Denys_Grushchak', 'kind': 'spark'}</tt><br>"
      ],
      "text/plain": [
       "<IPython.core.display.HTML object>"
      ]
     },
     "metadata": {},
     "output_type": "display_data"
    },
    {
     "data": {
      "text/html": [
       "No active sessions."
      ],
      "text/plain": [
       "<IPython.core.display.HTML object>"
      ]
     },
     "metadata": {},
     "output_type": "display_data"
    }
   ],
   "source": [
    "%%configure -f\n",
    "{\"executorMemory\":\"8G\", \"numExecutors\":2, \"executorCores\":3, \"conf\": {\"spark.dynamicAllocation.enabled\": \"false\"}}"
   ]
  },
  {
   "cell_type": "code",
   "execution_count": 22,
   "metadata": {
    "execution": {
     "iopub.execute_input": "2023-01-26T18:11:23.591740Z",
     "iopub.status.busy": "2023-01-26T18:11:23.591505Z",
     "iopub.status.idle": "2023-01-26T18:11:24.363233Z",
     "shell.execute_reply": "2023-01-26T18:11:24.362515Z",
     "shell.execute_reply.started": "2023-01-26T18:11:23.591715Z"
    },
    "tags": []
   },
   "outputs": [
    {
     "data": {
      "application/vnd.jupyter.widget-view+json": {
       "model_id": "ab1f15f2be8e44859bb0905f3e03b1f5",
       "version_major": 2,
       "version_minor": 0
      },
      "text/plain": [
       "VBox()"
      ]
     },
     "metadata": {},
     "output_type": "display_data"
    },
    {
     "data": {
      "application/vnd.jupyter.widget-view+json": {
       "model_id": "",
       "version_major": 2,
       "version_minor": 0
      },
      "text/plain": [
       "FloatProgress(value=0.0, bar_style='info', description='Progress:', layout=Layout(height='25px', width='50%'),…"
      ]
     },
     "metadata": {},
     "output_type": "display_data"
    },
    {
     "name": "stdout",
     "output_type": "stream",
     "text": [
      "bucketname: String = unibo-bd2122-dgrushchak\n",
      "path_flights_db: String = s3a://unibo-bd2122-dgrushchak/projectTest/xaa.txt\n",
      "res71: String = application_1674753577028_0003\n",
      "res73: String = SPARK UI: Enable forwarding of port 20888 and connect to http://localhost:20888/proxy/application_1674753577028_0003/\n"
     ]
    }
   ],
   "source": [
    "//Denys: val bucketname = \"unibo-bd2122-dgrushchak\"\n",
    "//Riccardo: val bucketname = \"unibo-bd2223-rbacca\"\n",
    "\n",
    "val bucketname = \"unibo-bd2122-dgrushchak\"\n",
    "\n",
    "//Denys: val path_flights_db = \"s3a://\"+bucketname+\"/project/small_file_10000000.txt\"\n",
    "//Riccardo:val path_flights_db = \"s3a://\"+bucketname+\"/bigdata-project/part_1.txt\"\n",
    "\n",
    "val path_flights_db = \"s3a://\"+bucketname+\"/projectTest/xaa.txt\"\n",
    "\n",
    "sc.applicationId\n",
    "\n",
    "\"SPARK UI: Enable forwarding of port 20888 and connect to http://localhost:20888/proxy/\" + sc.applicationId + \"/\""
   ]
  },
  {
   "cell_type": "code",
   "execution_count": 32,
   "metadata": {
    "execution": {
     "iopub.execute_input": "2023-01-26T18:22:51.770880Z",
     "iopub.status.busy": "2023-01-26T18:22:51.770636Z",
     "iopub.status.idle": "2023-01-26T18:22:52.543281Z",
     "shell.execute_reply": "2023-01-26T18:22:52.542394Z",
     "shell.execute_reply.started": "2023-01-26T18:22:51.770855Z"
    },
    "tags": []
   },
   "outputs": [
    {
     "data": {
      "application/vnd.jupyter.widget-view+json": {
       "model_id": "03cc74971e7340e593e299f8fde7d2d9",
       "version_major": 2,
       "version_minor": 0
      },
      "text/plain": [
       "VBox()"
      ]
     },
     "metadata": {},
     "output_type": "display_data"
    },
    {
     "data": {
      "application/vnd.jupyter.widget-view+json": {
       "model_id": "",
       "version_major": 2,
       "version_minor": 0
      },
      "text/plain": [
       "FloatProgress(value=0.0, bar_style='info', description='Progress:', layout=Layout(height='25px', width='50%'),…"
      ]
     },
     "metadata": {},
     "output_type": "display_data"
    },
    {
     "name": "stdout",
     "output_type": "stream",
     "text": [
      "defined object Parser\n"
     ]
    }
   ],
   "source": [
    "object Parser{\n",
    "    val commaRegex = \",(?=(?:[^\\\"]*\\\"[^\\\"]*\\\")*[^\\\"]*$)\"\n",
    "    val doubleVerticalLine = \"\\\\|\\\\|\"\n",
    "    \n",
    "    val pipeRegex = \"\\\\|(?=(?:[^\\\"]*\\\"[^\\\"]*\\\")*[^\\\"]*$)\" // not used\n",
    "    val quotes = \"\\\"\" //not used\n",
    "   \n",
    "    \n",
    "    case class FlightData(\n",
    "        flightDate: String,          //1\n",
    "        startingAirport: String,     //2\n",
    "        destinationAirport: String,  //3\n",
    "        travelDuration: Int,         //4\n",
    "        airplaneType: Array[String], //5\n",
    "        airlineName: Array[String],  //6\n",
    "        isNonStop: Boolean,          //7\n",
    "        isBasicEconomy: Boolean,     //8\n",
    "        totalFare: Double,           //9\n",
    "        segmentsDuration: Array[Int],//10\n",
    "        segmentsDistance: Array[Int] //11\n",
    "    ){\n",
    "        def un() = FlightData.unapply(this).get\n",
    "    }\n",
    "    \n",
    "    def convertTravelDuration(value: String): Int = {\n",
    "        val input = value.replace(\"PT\", \"\")\n",
    "        val minutes = input.replace(\"M\", \"\").split(\"H\") //[2, 35]\n",
    "        \n",
    "        (minutes(0).trim.toInt)*60 + minutes(1).trim.toInt\n",
    "    }\n",
    "    \n",
    "    def convertAirplaneType(value: String): Array[String] = {\n",
    "        //Ex. Airbus A320||Boeing 737-800\n",
    "        val result = value.split(doubleVerticalLine)\n",
    "        if (result.head == \"\") Array.empty\n",
    "        else result\n",
    "    }\n",
    "    \n",
    "    def convertAirlineName(value: String): Array[String] = {\n",
    "        val result = value.split(doubleVerticalLine)\n",
    "        if (result.head == \"\") Array.empty\n",
    "        else result\n",
    "    }\n",
    "    \n",
    "    //return array of duration of each leg in minutes\n",
    "    def convertSegmentsDuration(value: String): Array[Int] = {\n",
    "        val result = value.split(doubleVerticalLine)\n",
    "        if (result.head == \"\") Array.empty\n",
    "        else result.map(_.toInt/60)\n",
    "    }\n",
    "    \n",
    "    def convertSegmentsDistance(value: String): Array[Int] = {\n",
    "        val result = value.split(doubleVerticalLine)\n",
    "        if(result.head == \"\" || result.head == \"None\") Array.empty\n",
    "        else result.map(_.toInt)\n",
    "    }\n",
    "    \n",
    "     /**\n",
    "        2 - flightdate (String) ** x._1\n",
    "        3 - starting airport (String) ** x._2\n",
    "        4 - destination airport (String) ** x._3\n",
    "        6 - travel duration (PT2H35M) ** in minutes x._4\n",
    "        8 - isBasicEconomy (String) ** x._8\n",
    "        9 - isrefundable (boolean)\n",
    "        10 - isNonStop (String) ** x._7\n",
    "        12 - basefare (prezzo base del ticket in $ Double) ** x._9\n",
    "        12 - seats remaining (Int)\n",
    "        20 - airline name (company name) ** x._6\n",
    "        23 - airplane type (Vector of [String||String] ** x._5\n",
    "        25 - segment distance (distance in milles: Vector of [Int||Int]  can be [None||None]) ** x._11\n",
    "        24 - segments duration in seconds x._10\n",
    "    **/\n",
    "    \n",
    "     def parseFlightInformationLine(line: String): Option[FlightData] = {\n",
    "        try {\n",
    "            val input = line.split(commaRegex)\n",
    "            \n",
    "            val airplanes = convertAirplaneType(input(23))\n",
    "            val airline = convertAirlineName(input(21))\n",
    "            val segmentsDuration = convertSegmentsDuration(input(24))\n",
    "            val segmentsDistance = convertSegmentsDistance(input(25))\n",
    "\n",
    "            if (airplanes.isEmpty || airline.isEmpty || segmentsDuration.isEmpty || segmentsDistance.isEmpty) None\n",
    "            else Some(FlightData(\n",
    "                input(2), \n",
    "                input(3), \n",
    "                input(4), \n",
    "                convertTravelDuration(input(6)), \n",
    "                airplanes, \n",
    "                airline, \n",
    "                input(10).toBoolean, \n",
    "                input(8).toBoolean, \n",
    "                input(12).toDouble, \n",
    "                segmentsDuration,\n",
    "                segmentsDistance))\n",
    "        } catch {\n",
    "            case _: Exception => None\n",
    "        }\n",
    "    }\n",
    "}"
   ]
  },
  {
   "cell_type": "code",
   "execution_count": 33,
   "metadata": {
    "execution": {
     "iopub.execute_input": "2023-01-26T18:22:55.373730Z",
     "iopub.status.busy": "2023-01-26T18:22:55.373468Z",
     "iopub.status.idle": "2023-01-26T18:22:56.140285Z",
     "shell.execute_reply": "2023-01-26T18:22:56.139490Z",
     "shell.execute_reply.started": "2023-01-26T18:22:55.373700Z"
    },
    "tags": []
   },
   "outputs": [
    {
     "data": {
      "application/vnd.jupyter.widget-view+json": {
       "model_id": "6dbf1dd53e4a4243b76f7ed849e232ce",
       "version_major": 2,
       "version_minor": 0
      },
      "text/plain": [
       "VBox()"
      ]
     },
     "metadata": {},
     "output_type": "display_data"
    },
    {
     "data": {
      "application/vnd.jupyter.widget-view+json": {
       "model_id": "",
       "version_major": 2,
       "version_minor": 0
      },
      "text/plain": [
       "FloatProgress(value=0.0, bar_style='info', description='Progress:', layout=Layout(height='25px', width='50%'),…"
      ]
     },
     "metadata": {},
     "output_type": "display_data"
    },
    {
     "name": "stdout",
     "output_type": "stream",
     "text": [
      "rddFlights: org.apache.spark.rdd.RDD[Parser.FlightData] = MapPartitionsRDD[97] at flatMap at <console>:25\n",
      "rddFlightsCached: rddFlights.type = MapPartitionsRDD[97] at flatMap at <console>:25\n"
     ]
    }
   ],
   "source": [
    "sc.getPersistentRDDs.foreach(_._2.unpersist()) \n",
    "val rddFlights = sc.textFile(path_flights_db).flatMap(Parser.parseFlightInformationLine)\n",
    "val rddFlightsCached = rddFlights.cache()"
   ]
  },
  {
   "cell_type": "code",
   "execution_count": 35,
   "metadata": {
    "execution": {
     "iopub.execute_input": "2023-01-26T18:24:14.201147Z",
     "iopub.status.busy": "2023-01-26T18:24:14.200787Z",
     "iopub.status.idle": "2023-01-26T18:24:14.990061Z",
     "shell.execute_reply": "2023-01-26T18:24:14.989253Z",
     "shell.execute_reply.started": "2023-01-26T18:24:14.201087Z"
    },
    "tags": []
   },
   "outputs": [
    {
     "data": {
      "application/vnd.jupyter.widget-view+json": {
       "model_id": "38d1730a4f7f48249e69842d944a3592",
       "version_major": 2,
       "version_minor": 0
      },
      "text/plain": [
       "VBox()"
      ]
     },
     "metadata": {},
     "output_type": "display_data"
    },
    {
     "data": {
      "application/vnd.jupyter.widget-view+json": {
       "model_id": "",
       "version_major": 2,
       "version_minor": 0
      },
      "text/plain": [
       "FloatProgress(value=0.0, bar_style='info', description='Progress:', layout=Layout(height='25px', width='50%'),…"
      ]
     },
     "metadata": {},
     "output_type": "display_data"
    },
    {
     "name": "stdout",
     "output_type": "stream",
     "text": [
      "(2022-04-17,ATL,BOS,149,[Ljava.lang.String;@74dd7776,[Ljava.lang.String;@4850116d,true,false,248.6,[I@47f48f1f,[I@16627996)\n",
      "(2022-04-17,ATL,BOS,150,[Ljava.lang.String;@99bcaeb,[Ljava.lang.String;@410869cc,true,false,248.6,[I@22679a85,[I@274ce996)\n",
      "(2022-04-17,ATL,BOS,150,[Ljava.lang.String;@7057b306,[Ljava.lang.String;@7213e2c9,true,false,248.6,[I@6c3efdbc,[I@2c7ea9f4)\n",
      "(2022-04-17,ATL,BOS,152,[Ljava.lang.String;@61fce0fe,[Ljava.lang.String;@c9443a2,true,false,248.6,[I@17dc8c91,[I@4e34a697)\n",
      "(2022-04-17,ATL,BOS,154,[Ljava.lang.String;@484944bf,[Ljava.lang.String;@666e8747,true,false,248.6,[I@15a5371f,[I@7e4e2b22)\n",
      "(2022-04-17,ATL,BOS,252,[Ljava.lang.String;@7ca0e4e8,[Ljava.lang.String;@6ee60084,false,false,251.1,[I@52c7df88,[I@5d5ff9c9)\n",
      "(2022-04-17,ATL,BOS,318,[Ljava.lang.String;@26a3c12e,[Ljava.lang.String;@781f175e,false,false,251.1,[I@1448ac4a,[I@36fb9ebb)\n",
      "(2022-04-17,ATL,BOS,332,[Ljava.lang.String;@ee993fb,[Ljava.lang.String;@e4cd09f,false,false,251.1,[I@5fb707e0,[I@35d354eb)\n",
      "(2022-04-17,ATL,BOS,398,[Ljava.lang.String;@77e77fe1,[Ljava.lang.String;@1f4781aa,false,false,251.1,[I@78a81da5,[I@57f37a57)\n",
      "(2022-04-17,ATL,BOS,286,[Ljava.lang.String;@1b270f3f,[Ljava.lang.String;@38ce9720,false,false,252.6,[I@33f0a9,[I@4c5e133a)\n",
      "round: (v: Double)Double\n",
      "numberOfRecords: Long = 436440\n",
      "res105: Array[Array[Int]] = Array(Array(947), Array(947), Array(947), Array(947), Array(947), Array(228, 728), Array(228, 728), Array(228, 728), Array(228, 728), Array(541, 406))\n"
     ]
    }
   ],
   "source": [
    "rddFlightsCached.map(_.un()).take(10).foreach(println)\n",
    "\n",
    "\n",
    "def round(v: Double): Double = {\n",
    "    (v*100).toInt/100.toDouble\n",
    "}\n",
    "\n",
    "val numberOfRecords = rddFlightsCached.count\n"
   ]
  },
  {
   "cell_type": "markdown",
   "metadata": {},
   "source": [
    "## Explorative queries\n",
    "\n",
    "1. How many distinct airports and aircraft models\n",
    "2. Average travel duration for airline, only in non-stop flights\n",
    "3. Percentage of basic economy tickets, based on all tickets\n",
    "4. Percentage of non-stop flights (flights with one leg)\n",
    "5. Average and price range of tickets\n",
    "6. Average ticket price for each airline\n",
    "7. Average and range of travel distance\n",
    "8. Top 10 airports with more arriving flights\n"
   ]
  },
  {
   "cell_type": "code",
   "execution_count": 36,
   "metadata": {
    "execution": {
     "iopub.execute_input": "2023-01-26T18:31:34.691392Z",
     "iopub.status.busy": "2023-01-26T18:31:34.691150Z",
     "iopub.status.idle": "2023-01-26T18:31:35.964085Z",
     "shell.execute_reply": "2023-01-26T18:31:35.963198Z",
     "shell.execute_reply.started": "2023-01-26T18:31:34.691367Z"
    },
    "tags": []
   },
   "outputs": [
    {
     "data": {
      "application/vnd.jupyter.widget-view+json": {
       "model_id": "9a052a1ea4f748049a9b7325cc9f2123",
       "version_major": 2,
       "version_minor": 0
      },
      "text/plain": [
       "VBox()"
      ]
     },
     "metadata": {},
     "output_type": "display_data"
    },
    {
     "data": {
      "application/vnd.jupyter.widget-view+json": {
       "model_id": "",
       "version_major": 2,
       "version_minor": 0
      },
      "text/plain": [
       "FloatProgress(value=0.0, bar_style='info', description='Progress:', layout=Layout(height='25px', width='50%'),…"
      ]
     },
     "metadata": {},
     "output_type": "display_data"
    },
    {
     "name": "stdout",
     "output_type": "stream",
     "text": [
      "distinctAirports: Long = 16\n",
      "distinctAircraftModels: Long = 42\n"
     ]
    }
   ],
   "source": [
    "//1.How many distinct airports and aircraft models\n",
    "val distinctAirports = rddFlightsCached.\n",
    "    map(x => x.startingAirport).\n",
    "    distinct.union(\n",
    "        rddFlightsCached.map(x => x.destinationAirport).distinct).\n",
    "    distinct.count\n",
    "val distinctAircraftModels = rddFlightsCached.flatMap(x => x.airplaneType).distinct.count"
   ]
  },
  {
   "cell_type": "code",
   "execution_count": 37,
   "metadata": {
    "execution": {
     "iopub.execute_input": "2023-01-26T18:31:38.291142Z",
     "iopub.status.busy": "2023-01-26T18:31:38.290867Z",
     "iopub.status.idle": "2023-01-26T18:31:39.063227Z",
     "shell.execute_reply": "2023-01-26T18:31:39.062539Z",
     "shell.execute_reply.started": "2023-01-26T18:31:38.291114Z"
    },
    "tags": []
   },
   "outputs": [
    {
     "data": {
      "application/vnd.jupyter.widget-view+json": {
       "model_id": "ebf466d7e98e463990607bba2950c2ca",
       "version_major": 2,
       "version_minor": 0
      },
      "text/plain": [
       "VBox()"
      ]
     },
     "metadata": {},
     "output_type": "display_data"
    },
    {
     "data": {
      "application/vnd.jupyter.widget-view+json": {
       "model_id": "",
       "version_major": 2,
       "version_minor": 0
      },
      "text/plain": [
       "FloatProgress(value=0.0, bar_style='info', description='Progress:', layout=Layout(height='25px', width='50%'),…"
      ]
     },
     "metadata": {},
     "output_type": "display_data"
    },
    {
     "name": "stdout",
     "output_type": "stream",
     "text": [
      "Frontier Airlines => 165.84 avg minutes\n",
      "United => 186.45 avg minutes\n",
      "Delta => 152.53 avg minutes\n",
      "Alaska Airlines => 243.72 avg minutes\n",
      "American Airlines => 183.45 avg minutes\n",
      "JetBlue Airways => 200.58 avg minutes\n",
      "distinctAirlines: Unit = ()\n"
     ]
    }
   ],
   "source": [
    "//2. Average travel duration for each airline, in non stop flights\n",
    "val distinctAirlines = rddFlightsCached.\n",
    "    filter(x => x.isNonStop).\n",
    "    map(x => (x.airlineName(0), x.travelDuration)).\n",
    "    aggregateByKey((0.0, 0.0))((a,v)=>(a._1+v, a._2+1), (a1,a2)=>(a1._1+a2._1, a1._2+a2._2)).\n",
    "    map({case(k,v)=>(k,v._1/v._2)}).\n",
    "    collect().\n",
    "    foreach({case (airline, value) => println(airline + \" => \" + round(value) + \" avg minutes\")})"
   ]
  },
  {
   "cell_type": "code",
   "execution_count": 38,
   "metadata": {
    "execution": {
     "iopub.execute_input": "2023-01-26T18:31:42.760386Z",
     "iopub.status.busy": "2023-01-26T18:31:42.760119Z",
     "iopub.status.idle": "2023-01-26T18:31:43.528849Z",
     "shell.execute_reply": "2023-01-26T18:31:43.528161Z",
     "shell.execute_reply.started": "2023-01-26T18:31:42.760356Z"
    },
    "tags": []
   },
   "outputs": [
    {
     "data": {
      "application/vnd.jupyter.widget-view+json": {
       "model_id": "7fbf0b538e5543e0af82414886048b5a",
       "version_major": 2,
       "version_minor": 0
      },
      "text/plain": [
       "VBox()"
      ]
     },
     "metadata": {},
     "output_type": "display_data"
    },
    {
     "data": {
      "application/vnd.jupyter.widget-view+json": {
       "model_id": "",
       "version_major": 2,
       "version_minor": 0
      },
      "text/plain": [
       "FloatProgress(value=0.0, bar_style='info', description='Progress:', layout=Layout(height='25px', width='50%'),…"
      ]
     },
     "metadata": {},
     "output_type": "display_data"
    },
    {
     "name": "stdout",
     "output_type": "stream",
     "text": [
      "res109: String = 8.76 %\n"
     ]
    }
   ],
   "source": [
    "//3. Percentage of basic economy tickets, based on all tickets\n",
    "round((rddFlightsCached.filter(_.isBasicEconomy).count.toDouble/numberOfRecords).toDouble*100) + \" %\""
   ]
  },
  {
   "cell_type": "code",
   "execution_count": 39,
   "metadata": {
    "execution": {
     "iopub.execute_input": "2023-01-26T18:31:46.210668Z",
     "iopub.status.busy": "2023-01-26T18:31:46.210429Z",
     "iopub.status.idle": "2023-01-26T18:31:46.973608Z",
     "shell.execute_reply": "2023-01-26T18:31:46.972920Z",
     "shell.execute_reply.started": "2023-01-26T18:31:46.210642Z"
    },
    "tags": []
   },
   "outputs": [
    {
     "data": {
      "application/vnd.jupyter.widget-view+json": {
       "model_id": "91d6ba108b144d65896ff0e89c3936b7",
       "version_major": 2,
       "version_minor": 0
      },
      "text/plain": [
       "VBox()"
      ]
     },
     "metadata": {},
     "output_type": "display_data"
    },
    {
     "data": {
      "application/vnd.jupyter.widget-view+json": {
       "model_id": "",
       "version_major": 2,
       "version_minor": 0
      },
      "text/plain": [
       "FloatProgress(value=0.0, bar_style='info', description='Progress:', layout=Layout(height='25px', width='50%'),…"
      ]
     },
     "metadata": {},
     "output_type": "display_data"
    },
    {
     "name": "stdout",
     "output_type": "stream",
     "text": [
      "res111: String = 28.93 %\n"
     ]
    }
   ],
   "source": [
    "//4. Percentage of non-stop flights (flights with one leg)\n",
    "round((rddFlightsCached.filter(_.isNonStop).count.toDouble/numberOfRecords).toDouble*100) + \" %\""
   ]
  },
  {
   "cell_type": "code",
   "execution_count": 40,
   "metadata": {
    "execution": {
     "iopub.execute_input": "2023-01-26T18:31:49.350035Z",
     "iopub.status.busy": "2023-01-26T18:31:49.349797Z",
     "iopub.status.idle": "2023-01-26T18:31:50.122112Z",
     "shell.execute_reply": "2023-01-26T18:31:50.121251Z",
     "shell.execute_reply.started": "2023-01-26T18:31:49.350010Z"
    },
    "tags": []
   },
   "outputs": [
    {
     "data": {
      "application/vnd.jupyter.widget-view+json": {
       "model_id": "ffa73cb7db094f87a5e9ff5667aa9ef5",
       "version_major": 2,
       "version_minor": 0
      },
      "text/plain": [
       "VBox()"
      ]
     },
     "metadata": {},
     "output_type": "display_data"
    },
    {
     "data": {
      "application/vnd.jupyter.widget-view+json": {
       "model_id": "",
       "version_major": 2,
       "version_minor": 0
      },
      "text/plain": [
       "FloatProgress(value=0.0, bar_style='info', description='Progress:', layout=Layout(height='25px', width='50%'),…"
      ]
     },
     "metadata": {},
     "output_type": "display_data"
    },
    {
     "name": "stdout",
     "output_type": "stream",
     "text": [
      "ticketPrices: org.apache.spark.rdd.RDD[Double] = MapPartitionsRDD[123] at map at <console>:24\n",
      "res113: String = Range of prices: 23.97 to 3810.6\n",
      "res114: String = Avg price: 357.51\n"
     ]
    }
   ],
   "source": [
    "//5. Average and price range of tickets\n",
    "val ticketPrices = rddFlightsCached.map(x => x.totalFare)\n",
    "\"Range of prices: \"  + ticketPrices.min + \" to \" + ticketPrices.max\n",
    "\"Avg price: \" + round((ticketPrices.sum/numberOfRecords).toDouble)"
   ]
  },
  {
   "cell_type": "code",
   "execution_count": 41,
   "metadata": {
    "execution": {
     "iopub.execute_input": "2023-01-26T18:31:52.600406Z",
     "iopub.status.busy": "2023-01-26T18:31:52.600166Z",
     "iopub.status.idle": "2023-01-26T18:31:53.386014Z",
     "shell.execute_reply": "2023-01-26T18:31:53.385230Z",
     "shell.execute_reply.started": "2023-01-26T18:31:52.600381Z"
    },
    "tags": []
   },
   "outputs": [
    {
     "data": {
      "application/vnd.jupyter.widget-view+json": {
       "model_id": "b1cc96881261471a8e218c9b50faacf0",
       "version_major": 2,
       "version_minor": 0
      },
      "text/plain": [
       "VBox()"
      ]
     },
     "metadata": {},
     "output_type": "display_data"
    },
    {
     "data": {
      "application/vnd.jupyter.widget-view+json": {
       "model_id": "",
       "version_major": 2,
       "version_minor": 0
      },
      "text/plain": [
       "FloatProgress(value=0.0, bar_style='info', description='Progress:', layout=Layout(height='25px', width='50%'),…"
      ]
     },
     "metadata": {},
     "output_type": "display_data"
    },
    {
     "name": "stdout",
     "output_type": "stream",
     "text": [
      "Frontier Airlines => 112.7\n",
      "United => 283.57\n",
      "Delta => 249.71\n",
      "Alaska Airlines => 277.86\n",
      "American Airlines => 267.75\n",
      "JetBlue Airways => 231.55\n",
      "avgTicketPricePerAirline: Unit = ()\n"
     ]
    }
   ],
   "source": [
    "//6. Average ticket price for each airline\n",
    "val avgTicketPricePerAirline = rddFlightsCached.\n",
    "    filter(_.isNonStop).\n",
    "    map(x => (x.airlineName(0),(x.totalFare, 1))).\n",
    "    reduceByKey((a,b) => (a._1+b._1, a._2+b._2)).\n",
    "    map(m => (m._1,m._2._1/m._2._2)).\n",
    "    collect.foreach({case (name, value) => println(name + \" => \" + round(value))})"
   ]
  },
  {
   "cell_type": "code",
   "execution_count": null,
   "metadata": {},
   "outputs": [],
   "source": [
    "//7. Average and range of travel distance"
   ]
  },
  {
   "cell_type": "code",
   "execution_count": 42,
   "metadata": {
    "execution": {
     "iopub.execute_input": "2023-01-26T18:31:56.203455Z",
     "iopub.status.busy": "2023-01-26T18:31:56.203184Z",
     "iopub.status.idle": "2023-01-26T18:31:56.975441Z",
     "shell.execute_reply": "2023-01-26T18:31:56.974687Z",
     "shell.execute_reply.started": "2023-01-26T18:31:56.203390Z"
    },
    "tags": []
   },
   "outputs": [
    {
     "data": {
      "application/vnd.jupyter.widget-view+json": {
       "model_id": "af7be3c861f8436b845e221f3c2f0910",
       "version_major": 2,
       "version_minor": 0
      },
      "text/plain": [
       "VBox()"
      ]
     },
     "metadata": {},
     "output_type": "display_data"
    },
    {
     "data": {
      "application/vnd.jupyter.widget-view+json": {
       "model_id": "",
       "version_major": 2,
       "version_minor": 0
      },
      "text/plain": [
       "FloatProgress(value=0.0, bar_style='info', description='Progress:', layout=Layout(height='25px', width='50%'),…"
      ]
     },
     "metadata": {},
     "output_type": "display_data"
    },
    {
     "name": "stdout",
     "output_type": "stream",
     "text": [
      "LAX => 40881\n",
      "LGA => 35280\n",
      "MIA => 30886\n",
      "BOS => 30416\n",
      "SFO => 30048\n",
      "ORD => 29603\n",
      "DFW => 29516\n",
      "CLT => 29076\n",
      "DEN => 27537\n",
      "ATL => 27403\n",
      "topAirports: Unit = ()\n"
     ]
    }
   ],
   "source": [
    "//8. Top 10 airports with more arriving flights\n",
    "val topAirports = rddFlightsCached.\n",
    "    map(x => (x.destinationAirport, 1)).\n",
    "    reduceByKey(_+_).\n",
    "    sortBy(_._2, false).\n",
    "    take(10).\n",
    "    foreach({case (name, value) => println(name + \" => \" + value)})"
   ]
  },
  {
   "cell_type": "markdown",
   "metadata": {},
   "source": [
    "## Main queries\n"
   ]
  },
  {
   "cell_type": "code",
   "execution_count": null,
   "metadata": {
    "tags": []
   },
   "outputs": [],
   "source": [
    "val path_output = \"s3a://\"+bucketname+\"/spark/avgRatPerMovie\" //todo"
   ]
  },
  {
   "cell_type": "markdown",
   "metadata": {},
   "source": [
    "### Riccardo\n",
    "\n",
    "> Riccardo: aggrego su “aircraft models” per calcolare la classifica discreta dei modelli più usati rispetto a ciascuna “airline”. Eseguo il join col dataset originale, infine riaggrego su “travel duration” e sulla classificazione di prima. Ottengo la durata di media di ogni volo per ogni compagnia (oltre a numero di voli e totale di ore) sul modello di aereo più utilizzato"
   ]
  },
  {
   "cell_type": "code",
   "execution_count": 43,
   "metadata": {
    "execution": {
     "iopub.execute_input": "2023-01-26T18:32:00.513431Z",
     "iopub.status.busy": "2023-01-26T18:32:00.513160Z",
     "iopub.status.idle": "2023-01-26T18:32:05.914566Z",
     "shell.execute_reply": "2023-01-26T18:32:05.913817Z",
     "shell.execute_reply.started": "2023-01-26T18:32:00.513403Z"
    },
    "tags": []
   },
   "outputs": [
    {
     "data": {
      "application/vnd.jupyter.widget-view+json": {
       "model_id": "d17fb183892b4bc8a8d00456d9345fb4",
       "version_major": 2,
       "version_minor": 0
      },
      "text/plain": [
       "VBox()"
      ]
     },
     "metadata": {},
     "output_type": "display_data"
    },
    {
     "data": {
      "application/vnd.jupyter.widget-view+json": {
       "model_id": "",
       "version_major": 2,
       "version_minor": 0
      },
      "text/plain": [
       "FloatProgress(value=0.0, bar_style='info', description='Progress:', layout=Layout(height='25px', width='50%'),…"
      ]
     },
     "metadata": {},
     "output_type": "display_data"
    },
    {
     "name": "stdout",
     "output_type": "stream",
     "text": [
      "zippedRdd: org.apache.spark.rdd.RDD[((Array[String], Array[String]), Long)] = ZippedWithIndexRDD[136] at zipWithIndex at <console>:25\n",
      "aircraft: org.apache.spark.rdd.RDD[((Long, Int), String)] = MapPartitionsRDD[139] at map at <console>:23\n",
      "airlines: org.apache.spark.rdd.RDD[((Long, Int), String)] = MapPartitionsRDD[142] at map at <console>:23\n",
      "((United,Embraer 175 (Enhanced Winglets)),37860)\n",
      "((United,Boeing 737-800),34429)\n",
      "((United,Boeing 737-900),34098)\n",
      "((United,Airbus A319),29032)\n",
      "((United,Airbus A320),25233)\n",
      "((United,Embraer 170),9312)\n",
      "((United,Boeing 737 MAX 9),9053)\n",
      "((United,Boeing 737-700),8019)\n",
      "((United,Boeing 757-200),5287)\n",
      "((United,Boeing 757-300),4799)\n",
      "mostUsedModelForAirline: Unit = ()\n"
     ]
    }
   ],
   "source": [
    "// Query approfondita --> Riccardo\n",
    "\n",
    "val zippedRdd = rddFlightsCached.map(x => (x.airplaneType, x.airlineName)).zipWithIndex()\n",
    "val aircraft = zippedRdd.map(x => (x._2, x._1._1.zipWithIndex)).flatMapValues(x => x).map(x => ((x._1, x._2._2), x._2._1))\n",
    "val airlines = zippedRdd.map(x => (x._2, x._1._2.zipWithIndex)).flatMapValues(x => x).map(x => ((x._1, x._2._2), x._2._1)) \n",
    "\n",
    "val mostUsedModelForAirline = aircraft.join(airlines).map(x => ((x._2._2, x._2._1), 1)).reduceByKey(_+_).sortBy(s => (s._1._1, s._2), false).take(10).foreach(println)\n",
    "\n",
    "// val joinedWithOriginal = mostUsedModelForAirline.join(rddFlightsCached)\n"
   ]
  },
  {
   "cell_type": "markdown",
   "metadata": {
    "execution": {
     "iopub.execute_input": "2023-01-26T17:47:01.300868Z",
     "iopub.status.busy": "2023-01-26T17:47:01.300635Z",
     "iopub.status.idle": "2023-01-26T17:47:01.561303Z",
     "shell.execute_reply": "2023-01-26T17:47:01.560507Z",
     "shell.execute_reply.started": "2023-01-26T17:47:01.300844Z"
    },
    "tags": []
   },
   "source": [
    "### Denys\n",
    "> Denys: aggrego su “aircraft model” per calcolare la “segment distance” totale percorsa da ogni modello, poi faccio self-join e aggregazione per determinare il “travel duration” per ogni “aircraft model”. Alla fine determino la velocità di ogni modello partendo dai dati aggregati."
   ]
  },
  {
   "cell_type": "code",
   "execution_count": 45,
   "metadata": {
    "execution": {
     "iopub.execute_input": "2023-01-26T18:36:31.430428Z",
     "iopub.status.busy": "2023-01-26T18:36:31.430192Z",
     "iopub.status.idle": "2023-01-26T18:36:32.197727Z",
     "shell.execute_reply": "2023-01-26T18:36:32.196939Z",
     "shell.execute_reply.started": "2023-01-26T18:36:31.430403Z"
    },
    "tags": []
   },
   "outputs": [
    {
     "data": {
      "application/vnd.jupyter.widget-view+json": {
       "model_id": "8b13ae62a0814afe9669810e7aa5beb5",
       "version_major": 2,
       "version_minor": 0
      },
      "text/plain": [
       "VBox()"
      ]
     },
     "metadata": {},
     "output_type": "display_data"
    },
    {
     "data": {
      "application/vnd.jupyter.widget-view+json": {
       "model_id": "",
       "version_major": 2,
       "version_minor": 0
      },
      "text/plain": [
       "FloatProgress(value=0.0, bar_style='info', description='Progress:', layout=Layout(height='25px', width='50%'),…"
      ]
     },
     "metadata": {},
     "output_type": "display_data"
    },
    {
     "name": "stdout",
     "output_type": "stream",
     "text": [
      "res124: Array[((Array[String], Array[Int]), Long)] = Array(((Array(Airbus A321),Array(947)),0), ((Array(Airbus A321),Array(947)),1), ((Array(Boeing 757-200),Array(947)),2), ((Array(Airbus A321),Array(947)),3), ((Array(Airbus A321),Array(947)),4), ((Array(Airbus A320, Airbus A320),Array(228, 728)),5), ((Array(Airbus A320, Boeing 737-800),Array(228, 728)),6), ((Array(Airbus A319, Airbus A320),Array(228, 728)),7), ((Array(Airbus A319, Boeing 737-800),Array(228, 728)),8), ((Array(Airbus A319, Boeing 737-800),Array(541, 406)),9))\n",
      "res126: Array[((Array[String], Array[Int]), Long)] = Array(((Array(Airbus A321),Array(149)),0), ((Array(Airbus A321),Array(150)),1), ((Array(Boeing 757-200),Array(150)),2), ((Array(Airbus A321),Array(152)),3), ((Array(Airbus A321),Array(154)),4), ((Array(Airbus A320, Airbus A320),Array(90, 125)),5), ((Array(Airbus A320, Boeing 737-800),Array(90, 138)),6), ((Array(Airbus A319, Airbus A320),Array(81, 125)),7), ((Array(Airbus A319, Boeing 737-800),Array(81, 138)),8), ((Array(Airbus A319, Boeing 737-800),Array(108, 99)),9))\n"
     ]
    }
   ],
   "source": [
    "rddFlightsCached.map(x => (x.airplaneType, x.segmentsDistance)).zipWithIndex.take(10)\n",
    "rddFlightsCached.map(x => (x.airplaneType, x.segmentsDuration)).zipWithIndex.take(10)"
   ]
  }
 ],
 "metadata": {
  "kernelspec": {
   "display_name": "Spark",
   "language": "scala",
   "name": "sparkkernel"
  },
  "language_info": {
   "codemirror_mode": "text/x-scala",
   "file_extension": ".sc",
   "mimetype": "text/x-scala",
   "name": "scala",
   "pygments_lexer": "scala"
  }
 },
 "nbformat": 4,
 "nbformat_minor": 4
}
