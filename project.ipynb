{
 "cells": [
  {
   "cell_type": "markdown",
   "metadata": {},
   "source": [
    "# Big Data Project"
   ]
  },
  {
   "cell_type": "markdown",
   "metadata": {},
   "source": [
    "## Configuration"
   ]
  },
  {
   "cell_type": "code",
   "execution_count": null,
   "metadata": {
    "tags": []
   },
   "outputs": [],
   "source": [
    "%%configure -f\n",
    "{\"executorMemory\":\"8G\", \"numExecutors\":2, \"executorCores\":3, \"conf\": {\"spark.dynamicAllocation.enabled\": \"false\"}}"
   ]
  },
  {
   "cell_type": "code",
   "execution_count": null,
   "metadata": {
    "tags": []
   },
   "outputs": [],
   "source": [
    "//Denys: val bucketname = \"unibo-bd2122-dgrushchak\"\n",
    "//Riccardo: val bucketname = \"unibo-bd2223-rbacca\"\n",
    "\n",
    "val bucketname = \"unibo-bd2223-rbacca\"\n",
    "\n",
    "//Denys: val path_flights_db = \"s3a://\"+bucketname+\"/project/small_file_10000000.txt\"\n",
    "//Riccardo:val path_flights_db = \"s3a://\"+bucketname+\"/bigdata-project/part_1.txt\"\n",
    "\n",
    "val path_flights_db = \"s3a://\"+bucketname+\"/bigdata-project/xaa\" \n",
    "\n",
    "sc.applicationId\n",
    "\n",
    "\"SPARK UI: Enable forwarding of port 20888 and connect to http://localhost:20888/proxy/\" + sc.applicationId + \"/\""
   ]
  },
  {
   "cell_type": "code",
   "execution_count": null,
   "metadata": {
    "tags": []
   },
   "outputs": [],
   "source": [
    "object FlightParser {\n",
    "    \n",
    "    val noGenresListed = \"(no genres listed)\"\n",
    "    val commaRegex = \",(?=(?:[^\\\"]*\\\"[^\\\"]*\\\")*[^\\\"]*$)\"\n",
    "    val pipeRegex = \"\\\\|(?=(?:[^\\\"]*\\\"[^\\\"]*\\\")*[^\\\"]*$)\"\n",
    "    val quotes = \"\\\"\"\n",
    "    val doubleVerticalLine = \"\\\\|\\\\|\"\n",
    "\n",
    "    /**\n",
    "    2 - flightdate (String) ** x._1\n",
    "    3 - starting airport (String) ** x._2\n",
    "    4 - destination airport (String) ** x._3\n",
    "    6 - travel duration (PT2H35M) ** in minutes x._4\n",
    "    8 - isBasicEconomy (String) ** x._8\n",
    "    9 - isrefundable (boolean)\n",
    "    10 - isNonStop (String) ** x._7\n",
    "    12 - basefare (prezzo base del ticket in $ Double) ** x._9\n",
    "    12 - seats remaining (Int)\n",
    "    20 - airline name (company name) ** x._6\n",
    "    23 - airplane type (Vector of [String||String] ** x._5\n",
    "    24 - segment distancd (distance in milles: Vector of [Int||Int]  can be [None||None])\n",
    "    **/\n",
    "    \n",
    "    def convertTravelDuration(value: String): Long = {\n",
    "        val input = value.replace(\"PT\", \"\")\n",
    "        val minutes = input.replace(\"M\", \"\").split(\"H\") //[2, 35]\n",
    "        \n",
    "        (minutes(0).trim.toLong)*60 + minutes(1).trim.toLong\n",
    "    }\n",
    "    \n",
    "    def convertAirplaneType(value: String): Array[String] = {\n",
    "        //Ex. Airbus A320||Boeing 737-800\n",
    "        val result = value.split(doubleVerticalLine)\n",
    "        if (result.head == \"\") Array.empty\n",
    "        else result\n",
    "    }\n",
    "    \n",
    "    def convertAirlineName(value: String): Array[String] = {\n",
    "        val result = value.split(doubleVerticalLine)\n",
    "        if (result.head == \"\") Array.empty\n",
    "        else result\n",
    "    }\n",
    "\n",
    "    def parseFlightInformationLine(line: String): Option[(String, String, String, Long, Array[String], Array[String], Boolean, Boolean, Double)] = {\n",
    "        try {\n",
    "            val input = line.split(commaRegex)\n",
    "            \n",
    "            val airplanes = convertAirplaneType(input(23))\n",
    "            val airline = convertAirlineName(input(21))\n",
    "\n",
    "            if (airplanes.isEmpty || airline.isEmpty) None\n",
    "            else Some(input(2), input(3), input(4), convertTravelDuration(input(6)), airplanes, airline, input(10).toBoolean, input(8).toBoolean, input(12).toDouble)\n",
    "        } catch {\n",
    "            case _: Exception => None\n",
    "        }\n",
    "    }\n",
    "   \n",
    "}\n"
   ]
  },
  {
   "cell_type": "code",
   "execution_count": null,
   "metadata": {
    "tags": []
   },
   "outputs": [],
   "source": [
    "val rddFlights = sc.textFile(path_flights_db).flatMap(FlightParser.parseFlightInformationLine)"
   ]
  },
  {
   "cell_type": "markdown",
   "metadata": {},
   "source": [
    "## Explorative queries\n",
    "\n",
    "1. How many distinct airports and aircraft models\n",
    "2. Average travel duration for airline, only in non-stop flights\n",
    "3. Percentage of basic economy tickets, based on all tickets\n",
    "4. Percentage of non-stop flights (flights with one leg)\n",
    "5. Average and price range of tickets\n",
    "6. Average ticket price for each airline\n",
    "7. Average and range of travel distance\n",
    "8. Top 10 airports with more arriving flights\n"
   ]
  },
  {
   "cell_type": "code",
   "execution_count": null,
   "metadata": {
    "tags": []
   },
   "outputs": [],
   "source": [
    "sc.getPersistentRDDs.foreach(_._2.unpersist())\n",
    "val rddFlightsCached = rddFlights.cache()\n",
    "\n",
    "rddFlightsCached.take(10)\n",
    "\n",
    "def round(v: Double): Double = {\n",
    "    (v*100).toInt/100.toDouble\n",
    "}\n",
    "\n",
    "val numberOfRecords = rddFlightsCached.count"
   ]
  },
  {
   "cell_type": "code",
   "execution_count": null,
   "metadata": {
    "tags": []
   },
   "outputs": [],
   "source": [
    "//How many distinct airports and aircraft models\n",
    "val distinctAirports = rddFlightsCached.map(x => x._2).distinct.union(rddFlightsCached.map(x => x._3).distinct).distinct.count\n",
    "val distinctAircraftModels = rddFlightsCached.flatMap(x => x._5).distinct.count"
   ]
  },
  {
   "cell_type": "code",
   "execution_count": null,
   "metadata": {
    "tags": []
   },
   "outputs": [],
   "source": [
    "//Average travel duration for each airline, in non stop flights\n",
    "val distinctAirlines = rddFlightsCached.\n",
    "    filter(x => x._7).\n",
    "    map(x => (x._6(0), x._4)).\n",
    "    aggregateByKey((0.0,0.0))((a,v)=>(a._1+v,a._2+1), (a1,a2)=>(a1._1+a2._1,a1._2+a2._2)).\n",
    "    map({case(k,v)=>(k,v._1/v._2)}).\n",
    "    collect().foreach(println)"
   ]
  },
  {
   "cell_type": "code",
   "execution_count": null,
   "metadata": {
    "tags": []
   },
   "outputs": [],
   "source": [
    "//Percentage of basic economy tickets, based on all tickets\n",
    "round((rddFlightsCached.filter(_._8).count.toDouble/numberOfRecords).toDouble*100)"
   ]
  },
  {
   "cell_type": "code",
   "execution_count": null,
   "metadata": {
    "tags": []
   },
   "outputs": [],
   "source": [
    "//Percentage of non-stop flights (flights with one leg)\n",
    "round((rddFlightsCached.filter(_._7).count.toDouble/numberOfRecords).toDouble*100)"
   ]
  },
  {
   "cell_type": "code",
   "execution_count": null,
   "metadata": {
    "tags": []
   },
   "outputs": [],
   "source": [
    "//Average and price range of tickets\n",
    "val ticketPrices = rddFlightsCached.map(x => x._9)\n",
    "println(\"Min price: \" + ticketPrices.min)\n",
    "println(\"Max price: \" + ticketPrices.max)\n",
    "print(\"Avg price: \" + round((ticketPrices.sum/numberOfRecords).toDouble))"
   ]
  },
  {
   "cell_type": "code",
   "execution_count": null,
   "metadata": {
    "tags": []
   },
   "outputs": [],
   "source": [
    "// Average ticket price for each airline\n",
    "val avgTicketPricePerAirline = rddFlightsCached.\n",
    "    filter(_._7).\n",
    "    map(x => (x._6(0),(x._9, 1))).\n",
    "    reduceByKey((a,b) => (a._1+b._1, a._2+b._2)).\n",
    "    map(m => (m._1,m._2._1/m._2._2)).\n",
    "    collect.foreach({case (name, value) => println(name + \" => \" + round(value))})"
   ]
  },
  {
   "cell_type": "code",
   "execution_count": null,
   "metadata": {},
   "outputs": [],
   "source": [
    "// Average and range of travel distance"
   ]
  },
  {
   "cell_type": "code",
   "execution_count": 73,
   "metadata": {
    "execution": {
     "iopub.execute_input": "2023-01-23T14:15:05.049558Z",
     "iopub.status.busy": "2023-01-23T14:15:05.049316Z",
     "iopub.status.idle": "2023-01-23T14:15:05.825860Z",
     "shell.execute_reply": "2023-01-23T14:15:05.825166Z",
     "shell.execute_reply.started": "2023-01-23T14:15:05.049531Z"
    },
    "tags": []
   },
   "outputs": [
    {
     "data": {
      "application/vnd.jupyter.widget-view+json": {
       "model_id": "94b7bf68590e407cb07854cf89fc029a",
       "version_major": 2,
       "version_minor": 0
      },
      "text/plain": [
       "VBox()"
      ]
     },
     "metadata": {},
     "output_type": "display_data"
    },
    {
     "data": {
      "application/vnd.jupyter.widget-view+json": {
       "model_id": "",
       "version_major": 2,
       "version_minor": 0
      },
      "text/plain": [
       "FloatProgress(value=0.0, bar_style='info', description='Progress:', layout=Layout(height='25px', width='50%'),…"
      ]
     },
     "metadata": {},
     "output_type": "display_data"
    },
    {
     "name": "stdout",
     "output_type": "stream",
     "text": [
      "LGA => 904\n",
      "LAX => 857\n",
      "BOS => 704\n",
      "DFW => 671\n",
      "DEN => 666\n",
      "DTW => 638\n",
      "EWR => 620\n",
      "ATL => 602\n",
      "ORD => 559\n",
      "SFO => 553\n",
      "topAirports: Unit = ()\n"
     ]
    }
   ],
   "source": [
    "// Top 10 airports with more arriving flights\n",
    "val topAirports = rddFlightsCached.\n",
    "    map(x => (x._3, 1)).\n",
    "    reduceByKey(_+_).\n",
    "    sortBy(_._2, false).\n",
    "    take(10).\n",
    "    foreach({case (name, value) => println(name + \" => \" + value)})"
   ]
  },
  {
   "cell_type": "markdown",
   "metadata": {},
   "source": [
    "## Personal works\n",
    "\n",
    "> Basta una query compicata a testa\n",
    "\n",
    "Query approfondite:\n",
    "\n",
    "- Denys:\n",
    "    - Aggrego “airline” e “aircraft model” per determinare il prezzo medio di un miglio nautico, e dopo aggrego (MIN) su “aircraft model” per trovare l'airline che vende i biglietti più economici per quel modello.\n",
    "    - Aggrego su “aircraft model” per calcolare la “travel distance” totale percorsa da ogni modello, poi faccio self-join e aggregazione per determinare il “travel duration” per ogni “aircraft model”. Alla fine determino la velocità di ogni modello partendo dai dati aggregati.\n",
    "- Riccardo:\n",
    "    - Aggrego su “aircraft models” per calcolare la classifica discreta dei modelli più usati rispetto a ciascuna “airline”. Eseguo il join col dataset originale, infine riaggrego su “travel duration” e sulla classificazione di prima. Ottengo la durata di media di ogni volo per ogni compagnia (oltre a numero di voli e totale di ore) sul modello di aereo più utilizzato\n",
    "    - Aggrego su giorno ed airline per calcolare la distanza totale, poi aggrego su airline per calcolare la media dei totali giornalieri (di distanza) per ciascuna compagnia aerea\n",
    "    - Aggrego su aeroporto di arrivo e di partenza, calcolando per ogni copia un AVG dei prezzi dei biglietti. Join con dataset originale. Aggrego nuovamente sulla classificazione di prima e sulla distanza totale percorsa. Ottengo così per ogni tratta il prezzo medio e la distanza media percorsa."
   ]
  },
  {
   "cell_type": "code",
   "execution_count": null,
   "metadata": {},
   "outputs": [],
   "source": [
    "val path_output = \"s3a://\"+bucketname+\"/spark/avgRatPerMovie\" //todo"
   ]
  }
 ],
 "metadata": {
  "kernelspec": {
   "display_name": "Spark",
   "language": "scala",
   "name": "sparkkernel"
  },
  "language_info": {
   "codemirror_mode": "text/x-scala",
   "file_extension": ".sc",
   "mimetype": "text/x-scala",
   "name": "scala",
   "pygments_lexer": "scala"
  }
 },
 "nbformat": 4,
 "nbformat_minor": 4
}
