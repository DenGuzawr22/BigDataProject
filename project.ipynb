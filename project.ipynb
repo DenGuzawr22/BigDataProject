{
 "cells": [
  {
   "cell_type": "markdown",
   "metadata": {},
   "source": [
    "# Big Data Project"
   ]
  },
  {
   "cell_type": "markdown",
   "metadata": {},
   "source": [
    "## Configuration"
   ]
  },
  {
   "cell_type": "code",
   "execution_count": null,
   "metadata": {
    "tags": []
   },
   "outputs": [],
   "source": [
    "%%configure -f\n",
    "{\"executorMemory\":\"8G\", \"numExecutors\":2, \"executorCores\":3, \"conf\": {\"spark.dynamicAllocation.enabled\": \"false\"}}"
   ]
  },
  {
   "cell_type": "code",
   "execution_count": null,
   "metadata": {
    "tags": []
   },
   "outputs": [],
   "source": [
    "//Denys: val bucketname = \"unibo-bd2122-dgrushchak\"\n",
    "//Riccardo: val bucketname = \"unibo-bd2223-rbacca\"\n",
    "\n",
    "val bucketname = \"unibo-bd2223-rbacca\"\n",
    "\n",
    "//Denys: val path_flights_db = \"s3a://\"+bucketname+\"/project/small_file_10000000.txt\"\n",
    "//Riccardo:val path_flights_db = \"s3a://\"+bucketname+\"/bigdata-project/part_1.txt\"\n",
    "\n",
    "val path_flights_db = \"s3a://\"+bucketname+\"/bigdata-project/xaa\"\n",
    "\n",
    "sc.applicationId\n",
    "\n",
    "\"SPARK UI: Enable forwarding of port 20888 and connect to http://localhost:20888/proxy/\" + sc.applicationId + \"/\""
   ]
  },
  {
   "cell_type": "code",
   "execution_count": null,
   "metadata": {
    "tags": []
   },
   "outputs": [],
   "source": [
    "object Parser{\n",
    "    val commaRegex = \",(?=(?:[^\\\"]*\\\"[^\\\"]*\\\")*[^\\\"]*$)\"\n",
    "    val doubleVerticalLine = \"\\\\|\\\\|\"\n",
    "    \n",
    "    val pipeRegex = \"\\\\|(?=(?:[^\\\"]*\\\"[^\\\"]*\\\")*[^\\\"]*$)\" // not used\n",
    "    val quotes = \"\\\"\" //not used\n",
    "   \n",
    "    \n",
    "    case class FlightData(\n",
    "        flightDate: String,          //1\n",
    "        startingAirport: String,     //2\n",
    "        destinationAirport: String,  //3\n",
    "        travelDuration: Int,         //4\n",
    "        airplaneType: Array[String], //5\n",
    "        airlineName: Array[String],  //6\n",
    "        isNonStop: Boolean,          //7\n",
    "        isBasicEconomy: Boolean,     //8\n",
    "        totalFare: Double,           //9\n",
    "        segmentsDuration: Array[Int],//10\n",
    "        segmentsDistance: Array[Int] //11\n",
    "    ){\n",
    "        def un() = FlightData.unapply(this).get\n",
    "    }\n",
    "    \n",
    "    def convertTravelDuration(value: String): Int = {\n",
    "        val input = value.replace(\"PT\", \"\")\n",
    "        val minutes = input.replace(\"M\", \"\").split(\"H\") //[2, 35]\n",
    "        \n",
    "        (minutes(0).trim.toInt)*60 + minutes(1).trim.toInt\n",
    "    }\n",
    "    \n",
    "    def convertAirplaneType(value: String): Array[String] = {\n",
    "        //Ex. Airbus A320||Boeing 737-800\n",
    "        val result = value.split(doubleVerticalLine)\n",
    "        if (result.head == \"\") Array.empty\n",
    "        else result\n",
    "    }\n",
    "    \n",
    "    def convertAirlineName(value: String): Array[String] = {\n",
    "        val result = value.split(doubleVerticalLine)\n",
    "        if (result.head == \"\") Array.empty\n",
    "        else result\n",
    "    }\n",
    "    \n",
    "    //return array of duration of each leg in minutes\n",
    "    def convertSegmentsDuration(value: String): Array[Int] = {\n",
    "        val result = value.split(doubleVerticalLine)\n",
    "        if (result.head == \"\") Array.empty\n",
    "        else result.map(_.toInt/60)\n",
    "    }\n",
    "    \n",
    "    def convertSegmentsDistance(value: String): Array[Int] = {\n",
    "        val result = value.split(doubleVerticalLine)\n",
    "        if(result.head == \"\" || result.head == \"None\") Array.empty\n",
    "        else result.map(_.toInt)\n",
    "    }\n",
    "    \n",
    "     /**\n",
    "        2 - flightdate (String) ** x._1\n",
    "        3 - starting airport (String) ** x._2\n",
    "        4 - destination airport (String) ** x._3\n",
    "        6 - travel duration (PT2H35M) ** in minutes x._4\n",
    "        8 - isBasicEconomy (String) ** x._8\n",
    "        9 - isrefundable (boolean)\n",
    "        10 - isNonStop (String) ** x._7\n",
    "        12 - basefare (prezzo base del ticket in $ Double) ** x._9\n",
    "        12 - seats remaining (Int)\n",
    "        20 - airline name (company name) ** x._6\n",
    "        23 - airplane type (Vector of [String||String] ** x._5\n",
    "        25 - segment distance (distance in milles: Vector of [Int||Int]  can be [None||None]) ** x._11\n",
    "        24 - segments duration in seconds x._10\n",
    "    **/\n",
    "    \n",
    "     def parseFlightInformationLine(line: String): Option[FlightData] = {\n",
    "        try {\n",
    "            val input = line.split(commaRegex)\n",
    "            \n",
    "            val airplanes = convertAirplaneType(input(23))\n",
    "            val airline = convertAirlineName(input(21))\n",
    "            val segmentsDuration = convertSegmentsDuration(input(24))\n",
    "            val segmentsDistance = convertSegmentsDistance(input(25))\n",
    "\n",
    "            if (airplanes.isEmpty || airline.isEmpty || segmentsDuration.isEmpty || segmentsDistance.isEmpty) None\n",
    "            else Some(FlightData(\n",
    "                input(2), \n",
    "                input(3), \n",
    "                input(4), \n",
    "                convertTravelDuration(input(6)), \n",
    "                airplanes, \n",
    "                airline, \n",
    "                input(10).toBoolean, \n",
    "                input(8).toBoolean, \n",
    "                input(12).toDouble, \n",
    "                segmentsDuration,\n",
    "                segmentsDistance))\n",
    "        } catch {\n",
    "            case _: Exception => None\n",
    "        }\n",
    "    }\n",
    "}"
   ]
  },
  {
   "cell_type": "code",
   "execution_count": null,
   "metadata": {
    "tags": []
   },
   "outputs": [],
   "source": [
    "sc.getPersistentRDDs.foreach(_._2.unpersist()) \n",
    "val rddFlights = sc.textFile(path_flights_db).flatMap(Parser.parseFlightInformationLine)\n",
    "val rddFlightsCached = rddFlights.cache()"
   ]
  },
  {
   "cell_type": "code",
   "execution_count": null,
   "metadata": {
    "tags": []
   },
   "outputs": [],
   "source": [
    "rddFlightsCached.map(_.un()).take(10).foreach(println)\n",
    "\n",
    "\n",
    "def round(v: Double): Double = {\n",
    "    (v*100).toInt/100.toDouble\n",
    "}\n",
    "\n",
    "val numberOfRecords = rddFlightsCached.count\n"
   ]
  },
  {
   "cell_type": "markdown",
   "metadata": {},
   "source": [
    "## Explorative queries\n",
    "\n",
    "1. How many distinct airports and aircraft models\n",
    "2. Average travel duration for airline, only in non-stop flights\n",
    "3. Percentage of basic economy tickets, based on all tickets\n",
    "4. Percentage of non-stop flights (flights with one leg)\n",
    "5. Average and price range of tickets\n",
    "6. Average ticket price for each airline\n",
    "7. Average and range of travel distance\n",
    "8. Top 10 airports with more arriving flights\n"
   ]
  },
  {
   "cell_type": "code",
   "execution_count": null,
   "metadata": {
    "tags": []
   },
   "outputs": [],
   "source": [
    "//1.How many distinct airports and aircraft models\n",
    "val distinctAirports = rddFlightsCached.\n",
    "    map(x => x.startingAirport).\n",
    "    distinct.union(\n",
    "        rddFlightsCached.map(x => x.destinationAirport).distinct).\n",
    "    distinct.count\n",
    "val distinctAircraftModels = rddFlightsCached.flatMap(x => x.airplaneType).distinct.count"
   ]
  },
  {
   "cell_type": "code",
   "execution_count": null,
   "metadata": {
    "tags": []
   },
   "outputs": [],
   "source": [
    "//2. Average travel duration for each airline, in non stop flights\n",
    "val distinctAirlines = rddFlightsCached.\n",
    "    filter(x => x.isNonStop).\n",
    "    map(x => (x.airlineName(0), x.travelDuration)).\n",
    "    aggregateByKey((0.0, 0.0))((a,v)=>(a._1+v, a._2+1), (a1,a2)=>(a1._1+a2._1, a1._2+a2._2)).\n",
    "    map({case(k,v)=>(k,v._1/v._2)}).\n",
    "    collect().\n",
    "    foreach({case (airline, value) => println(airline + \" => \" + round(value) + \" avg minutes\")})"
   ]
  },
  {
   "cell_type": "code",
   "execution_count": null,
   "metadata": {
    "tags": []
   },
   "outputs": [],
   "source": [
    "//3. Percentage of basic economy tickets, based on all tickets\n",
    "round((rddFlightsCached.filter(_.isBasicEconomy).count.toDouble/numberOfRecords).toDouble*100) + \" %\""
   ]
  },
  {
   "cell_type": "code",
   "execution_count": null,
   "metadata": {
    "tags": []
   },
   "outputs": [],
   "source": [
    "//4. Percentage of non-stop flights (flights with one leg)\n",
    "round((rddFlightsCached.filter(_.isNonStop).count.toDouble/numberOfRecords).toDouble*100) + \" %\""
   ]
  },
  {
   "cell_type": "code",
   "execution_count": null,
   "metadata": {
    "tags": []
   },
   "outputs": [],
   "source": [
    "//5. Average and price range of tickets\n",
    "val ticketPrices = rddFlightsCached.map(x => x.totalFare)\n",
    "\"Range of prices: \"  + ticketPrices.min + \" to \" + ticketPrices.max\n",
    "\"Avg price: \" + round((ticketPrices.sum/numberOfRecords).toDouble)"
   ]
  },
  {
   "cell_type": "code",
   "execution_count": null,
   "metadata": {
    "tags": []
   },
   "outputs": [],
   "source": [
    "//6. Average ticket price for each airline\n",
    "val avgTicketPricePerAirline = rddFlightsCached.\n",
    "    filter(_.isNonStop).\n",
    "    map(x => (x.airlineName(0),(x.totalFare, 1))).\n",
    "    reduceByKey((a,b) => (a._1+b._1, a._2+b._2)).\n",
    "    map(m => (m._1,m._2._1/m._2._2)).\n",
    "    collect.foreach({case (name, value) => println(name + \" => \" + round(value))})"
   ]
  },
  {
   "cell_type": "code",
   "execution_count": null,
   "metadata": {},
   "outputs": [],
   "source": [
    "//7. Average and range of travel distance"
   ]
  },
  {
   "cell_type": "code",
   "execution_count": null,
   "metadata": {
    "tags": []
   },
   "outputs": [],
   "source": [
    "//8. Top 10 airports with more arriving flights\n",
    "val topAirports = rddFlightsCached.\n",
    "    map(x => (x.destinationAirport, 1)).\n",
    "    reduceByKey(_+_).\n",
    "    sortBy(_._2, false).\n",
    "    take(10).\n",
    "    foreach({case (name, value) => println(name + \" => \" + value)})"
   ]
  },
  {
   "cell_type": "markdown",
   "metadata": {},
   "source": [
    "## Main queries\n"
   ]
  },
  {
   "cell_type": "code",
   "execution_count": null,
   "metadata": {
    "tags": []
   },
   "outputs": [],
   "source": [
    "val path_output = \"s3a://\"+bucketname+\"/spark/avgRatPerMovie\" //todo"
   ]
  },
  {
   "cell_type": "markdown",
   "metadata": {},
   "source": [
    "### Riccardo\n",
    "\n",
    "> Riccardo: Aggrego su aeroporto di arrivo e di partenza, calcolando per ogni coppia un AVG dei prezzi dei biglietti. Join con dataset originale. Aggrego nuovamente sulla classificazione di prima e sulla distanza totale percorsa. Ottengo così per ogni tratta il prezzo medio e la distanza media percorsa."
   ]
  },
  {
   "cell_type": "code",
   "execution_count": null,
   "metadata": {
    "tags": []
   },
   "outputs": [],
   "source": [
    "// Query approfondita --> Riccardo\n",
    "\n",
    "val result = rddFlightsCached.map(x => ((x.startingAirport, x.destinationAirport), (x.totalFare, 1))).\n",
    "    aggregateByKey((0.0,0.0))((a,v)=>(a._1+v._1, a._2+1),(a1,a2)=>(a1._1+a2._1,a1._2+a2._2)).\n",
    "    map({case (k,(sum,cnt)) => (k, (sum/cnt, cnt))}).\n",
    "    join(rddFlightsCached.map(x => ((x.startingAirport, x.destinationAirport), (x.segmentsDistance)))).\n",
    "    map({case (k,((avg,cnt),arr)) => (k, (avg, arr.sum, arr.size))}).take(10).foreach(println)\n",
    "\n",
    "// tupla attuale: ([startingAirport, arrivingAirport], [prezzo medio, distanza percorsa, numero tappe])"
   ]
  },
  {
   "cell_type": "markdown",
   "metadata": {
    "execution": {
     "iopub.execute_input": "2023-01-26T17:47:01.300868Z",
     "iopub.status.busy": "2023-01-26T17:47:01.300635Z",
     "iopub.status.idle": "2023-01-26T17:47:01.561303Z",
     "shell.execute_reply": "2023-01-26T17:47:01.560507Z",
     "shell.execute_reply.started": "2023-01-26T17:47:01.300844Z"
    },
    "tags": []
   },
   "source": [
    "### Denys\n",
    "> Denys: aggrego su “aircraft model” per calcolare la “segment distance” totale percorsa da ogni modello, poi faccio self-join e aggregazione per determinare il “travel duration” per ogni “aircraft model”. Alla fine determino la velocità di ogni modello partendo dai dati aggregati."
   ]
  },
  {
   "cell_type": "code",
   "execution_count": null,
   "metadata": {
    "tags": []
   },
   "outputs": [],
   "source": [
    "rddFlightsCached.map(x => (x.airplaneType, x.segmentsDistance)).zipWithIndex.take(10)\n",
    "rddFlightsCached.map(x => (x.airplaneType, x.segmentsDuration)).zipWithIndex.take(10)"
   ]
  }
 ],
 "metadata": {
  "kernelspec": {
   "display_name": "Spark",
   "language": "scala",
   "name": "sparkkernel"
  },
  "language_info": {
   "codemirror_mode": "text/x-scala",
   "file_extension": ".sc",
   "mimetype": "text/x-scala",
   "name": "scala",
   "pygments_lexer": "scala"
  }
 },
 "nbformat": 4,
 "nbformat_minor": 4
}
