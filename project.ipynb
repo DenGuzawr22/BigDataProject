{
 "cells": [
  {
   "cell_type": "markdown",
   "metadata": {},
   "source": [
    "# Big Data Project"
   ]
  },
  {
   "cell_type": "markdown",
   "metadata": {},
   "source": [
    "## Configuration"
   ]
  },
  {
   "cell_type": "code",
   "execution_count": null,
   "metadata": {
    "tags": []
   },
   "outputs": [],
   "source": [
    "%%configure -f\n",
    "{\"executorMemory\":\"8G\", \"numExecutors\":2, \"executorCores\":3, \"conf\": {\"spark.dynamicAllocation.enabled\": \"false\"}}"
   ]
  },
  {
   "cell_type": "code",
   "execution_count": 82,
   "metadata": {
    "execution": {
     "iopub.execute_input": "2023-01-24T19:21:38.502703Z",
     "iopub.status.busy": "2023-01-24T19:21:38.502475Z",
     "iopub.status.idle": "2023-01-24T19:21:39.266111Z",
     "shell.execute_reply": "2023-01-24T19:21:39.265327Z",
     "shell.execute_reply.started": "2023-01-24T19:21:38.502678Z"
    },
    "tags": []
   },
   "outputs": [
    {
     "data": {
      "application/vnd.jupyter.widget-view+json": {
       "model_id": "d894d026d73b403fb44b08bdf228cca0",
       "version_major": 2,
       "version_minor": 0
      },
      "text/plain": [
       "VBox()"
      ]
     },
     "metadata": {},
     "output_type": "display_data"
    },
    {
     "data": {
      "application/vnd.jupyter.widget-view+json": {
       "model_id": "",
       "version_major": 2,
       "version_minor": 0
      },
      "text/plain": [
       "FloatProgress(value=0.0, bar_style='info', description='Progress:', layout=Layout(height='25px', width='50%'),…"
      ]
     },
     "metadata": {},
     "output_type": "display_data"
    },
    {
     "name": "stdout",
     "output_type": "stream",
     "text": [
      "bucketname: String = unibo-bd2122-dgrushchak\n",
      "path_flights_db: String = s3a://unibo-bd2122-dgrushchak/projectTest/xaa.txt\n",
      "res172: String = application_1674580030687_0002\n",
      "res174: String = SPARK UI: Enable forwarding of port 20888 and connect to http://localhost:20888/proxy/application_1674580030687_0002/\n"
     ]
    }
   ],
   "source": [
    "//Denys: val bucketname = \"unibo-bd2122-dgrushchak\"\n",
    "//Riccardo: val bucketname = \"unibo-bd2223-rbacca\"\n",
    "\n",
    "val bucketname = \"unibo-bd2122-dgrushchak\"\n",
    "\n",
    "//Denys: val path_flights_db = \"s3a://\"+bucketname+\"/project/small_file_10000000.txt\"\n",
    "//Riccardo:val path_flights_db = \"s3a://\"+bucketname+\"/bigdata-project/part_1.txt\"\n",
    "\n",
    "val path_flights_db = \"s3a://\"+bucketname+\"/projectTest/xaa.txt\"\n",
    "\n",
    "sc.applicationId\n",
    "\n",
    "\"SPARK UI: Enable forwarding of port 20888 and connect to http://localhost:20888/proxy/\" + sc.applicationId + \"/\""
   ]
  },
  {
   "cell_type": "code",
   "execution_count": 86,
   "metadata": {
    "execution": {
     "iopub.execute_input": "2023-01-24T19:22:10.412915Z",
     "iopub.status.busy": "2023-01-24T19:22:10.412647Z",
     "iopub.status.idle": "2023-01-24T19:22:10.671788Z",
     "shell.execute_reply": "2023-01-24T19:22:10.671092Z",
     "shell.execute_reply.started": "2023-01-24T19:22:10.412856Z"
    },
    "tags": []
   },
   "outputs": [
    {
     "data": {
      "application/vnd.jupyter.widget-view+json": {
       "model_id": "0b0c5958afbe437db8f9e0992845683b",
       "version_major": 2,
       "version_minor": 0
      },
      "text/plain": [
       "VBox()"
      ]
     },
     "metadata": {},
     "output_type": "display_data"
    },
    {
     "data": {
      "application/vnd.jupyter.widget-view+json": {
       "model_id": "",
       "version_major": 2,
       "version_minor": 0
      },
      "text/plain": [
       "FloatProgress(value=0.0, bar_style='info', description='Progress:', layout=Layout(height='25px', width='50%'),…"
      ]
     },
     "metadata": {},
     "output_type": "display_data"
    },
    {
     "name": "stdout",
     "output_type": "stream",
     "text": [
      "defined object Parser\n"
     ]
    }
   ],
   "source": [
    "object Parser{\n",
    "    val commaRegex = \",(?=(?:[^\\\"]*\\\"[^\\\"]*\\\")*[^\\\"]*$)\"\n",
    "    val doubleVerticalLine = \"\\\\|\\\\|\"\n",
    "    \n",
    "    val pipeRegex = \"\\\\|(?=(?:[^\\\"]*\\\"[^\\\"]*\\\")*[^\\\"]*$)\" // not used\n",
    "    val quotes = \"\\\"\" //not used\n",
    "   \n",
    "    \n",
    "    case class FlightData(\n",
    "        flightDate: String,          //1\n",
    "        startingAirport: String,     //2\n",
    "        destinationAirport: String,  //3\n",
    "        travelDuration: Long,        //4\n",
    "        airplaneType: Array[String], //5\n",
    "        airplaneName: Array[String], //6\n",
    "        isNonStop: Boolean,          //7\n",
    "        isBasicEconomy: Boolean,     //8\n",
    "        totalFare: Double            //9\n",
    "    ){\n",
    "        def un() = FlightData.unapply(this).get\n",
    "    }\n",
    "    \n",
    "    def convertTravelDuration(value: String): Long = {\n",
    "        val input = value.replace(\"PT\", \"\")\n",
    "        val minutes = input.replace(\"M\", \"\").split(\"H\") //[2, 35]\n",
    "        \n",
    "        (minutes(0).trim.toLong)*60 + minutes(1).trim.toLong\n",
    "    }\n",
    "    \n",
    "    def convertAirplaneType(value: String): Array[String] = {\n",
    "        //Ex. Airbus A320||Boeing 737-800\n",
    "        val result = value.split(doubleVerticalLine)\n",
    "        if (result.head == \"\") Array.empty\n",
    "        else result\n",
    "    }\n",
    "    \n",
    "    def convertAirlineName(value: String): Array[String] = {\n",
    "        val result = value.split(doubleVerticalLine)\n",
    "        if (result.head == \"\") Array.empty\n",
    "        else result\n",
    "    }\n",
    "    \n",
    "     /**\n",
    "        2 - flightdate (String) ** x._1\n",
    "        3 - starting airport (String) ** x._2\n",
    "        4 - destination airport (String) ** x._3\n",
    "        6 - travel duration (PT2H35M) ** in minutes x._4\n",
    "        8 - isBasicEconomy (String) ** x._8\n",
    "        9 - isrefundable (boolean)\n",
    "        10 - isNonStop (String) ** x._7\n",
    "        12 - basefare (prezzo base del ticket in $ Double) ** x._9\n",
    "        12 - seats remaining (Int)\n",
    "        20 - airline name (company name) ** x._6\n",
    "        23 - airplane type (Vector of [String||String] ** x._5\n",
    "        24 - segment distancd (distance in milles: Vector of [Int||Int]  can be [None||None])\n",
    "    **/\n",
    "     def parseFlightInformationLine(line: String): Option[FlightData] = {\n",
    "        try {\n",
    "            val input = line.split(commaRegex)\n",
    "            \n",
    "            val airplanes = convertAirplaneType(input(23))\n",
    "            val airline = convertAirlineName(input(21))\n",
    "\n",
    "            if (airplanes.isEmpty || airline.isEmpty) None\n",
    "            else Some(FlightData(input(2), input(3), input(4), convertTravelDuration(input(6)), airplanes, airline, input(10).toBoolean, input(8).toBoolean, input(12).toDouble))\n",
    "        } catch {\n",
    "            case _: Exception => None\n",
    "        }\n",
    "    }\n",
    "}"
   ]
  },
  {
   "cell_type": "code",
   "execution_count": 87,
   "metadata": {
    "execution": {
     "iopub.execute_input": "2023-01-24T19:22:18.982810Z",
     "iopub.status.busy": "2023-01-24T19:22:18.982561Z",
     "iopub.status.idle": "2023-01-24T19:22:19.747584Z",
     "shell.execute_reply": "2023-01-24T19:22:19.746884Z",
     "shell.execute_reply.started": "2023-01-24T19:22:18.982779Z"
    },
    "tags": []
   },
   "outputs": [
    {
     "data": {
      "application/vnd.jupyter.widget-view+json": {
       "model_id": "0dab26db669c451ba5e1f0f142879180",
       "version_major": 2,
       "version_minor": 0
      },
      "text/plain": [
       "VBox()"
      ]
     },
     "metadata": {},
     "output_type": "display_data"
    },
    {
     "data": {
      "application/vnd.jupyter.widget-view+json": {
       "model_id": "",
       "version_major": 2,
       "version_minor": 0
      },
      "text/plain": [
       "FloatProgress(value=0.0, bar_style='info', description='Progress:', layout=Layout(height='25px', width='50%'),…"
      ]
     },
     "metadata": {},
     "output_type": "display_data"
    },
    {
     "name": "stdout",
     "output_type": "stream",
     "text": [
      "rddFlights: org.apache.spark.rdd.RDD[Parser.FlightData] = MapPartitionsRDD[181] at flatMap at <console>:25\n",
      "rddFlightsCached: rddFlights.type = MapPartitionsRDD[181] at flatMap at <console>:25\n"
     ]
    }
   ],
   "source": [
    "sc.getPersistentRDDs.foreach(_._2.unpersist()) \n",
    "val rddFlights = sc.textFile(path_flights_db).flatMap(Parser.parseFlightInformationLine)\n",
    "val rddFlightsCached = rddFlights.cache()"
   ]
  },
  {
   "cell_type": "code",
   "execution_count": 88,
   "metadata": {
    "execution": {
     "iopub.execute_input": "2023-01-24T19:26:36.152627Z",
     "iopub.status.busy": "2023-01-24T19:26:36.152388Z",
     "iopub.status.idle": "2023-01-24T19:27:13.525997Z",
     "shell.execute_reply": "2023-01-24T19:27:13.525133Z",
     "shell.execute_reply.started": "2023-01-24T19:26:36.152600Z"
    },
    "tags": []
   },
   "outputs": [
    {
     "data": {
      "application/vnd.jupyter.widget-view+json": {
       "model_id": "5284e85a1f994ec7a010f1a345fe45ca",
       "version_major": 2,
       "version_minor": 0
      },
      "text/plain": [
       "VBox()"
      ]
     },
     "metadata": {},
     "output_type": "display_data"
    },
    {
     "data": {
      "application/vnd.jupyter.widget-view+json": {
       "model_id": "",
       "version_major": 2,
       "version_minor": 0
      },
      "text/plain": [
       "FloatProgress(value=0.0, bar_style='info', description='Progress:', layout=Layout(height='25px', width='50%'),…"
      ]
     },
     "metadata": {},
     "output_type": "display_data"
    },
    {
     "name": "stdout",
     "output_type": "stream",
     "text": [
      "(2022-04-17,ATL,BOS,149,[Ljava.lang.String;@5f9d370c,[Ljava.lang.String;@5deedb99,true,false,248.6)\n",
      "(2022-04-17,ATL,BOS,150,[Ljava.lang.String;@4a3a3180,[Ljava.lang.String;@54eb17c2,true,false,248.6)\n",
      "(2022-04-17,ATL,BOS,150,[Ljava.lang.String;@62787f04,[Ljava.lang.String;@496152c1,true,false,248.6)\n",
      "(2022-04-17,ATL,BOS,152,[Ljava.lang.String;@52ccdc5c,[Ljava.lang.String;@5e1584c0,true,false,248.6)\n",
      "(2022-04-17,ATL,BOS,154,[Ljava.lang.String;@7f344059,[Ljava.lang.String;@3c80e224,true,false,248.6)\n",
      "(2022-04-17,ATL,BOS,252,[Ljava.lang.String;@89af7d4,[Ljava.lang.String;@7adb4183,false,false,251.1)\n",
      "(2022-04-17,ATL,BOS,318,[Ljava.lang.String;@2730f009,[Ljava.lang.String;@1c9ab709,false,false,251.1)\n",
      "(2022-04-17,ATL,BOS,332,[Ljava.lang.String;@4361d719,[Ljava.lang.String;@631651af,false,false,251.1)\n",
      "(2022-04-17,ATL,BOS,398,[Ljava.lang.String;@4386457c,[Ljava.lang.String;@aed80fa,false,false,251.1)\n",
      "(2022-04-17,ATL,BOS,286,[Ljava.lang.String;@477957a1,[Ljava.lang.String;@16b3fdc8,false,false,252.6)\n",
      "round: (v: Double)Double\n",
      "numberOfRecords: Long = 458334\n"
     ]
    }
   ],
   "source": [
    "rddFlightsCached.map(_.un()).take(10).foreach(println)\n",
    "\n",
    "\n",
    "def round(v: Double): Double = {\n",
    "    (v*100).toInt/100.toDouble\n",
    "}\n",
    "\n",
    "val numberOfRecords = rddFlightsCached.count"
   ]
  },
  {
   "cell_type": "markdown",
   "metadata": {},
   "source": [
    "## Explorative queries\n",
    "\n",
    "1. How many distinct airports and aircraft models\n",
    "2. Average travel duration for airline, only in non-stop flights\n",
    "3. Percentage of basic economy tickets, based on all tickets\n",
    "4. Percentage of non-stop flights (flights with one leg)\n",
    "5. Average and price range of tickets\n",
    "6. Average ticket price for each airline\n",
    "7. Average and range of travel distance\n",
    "8. Top 10 airports with more arriving flights\n"
   ]
  },
  {
   "cell_type": "code",
   "execution_count": 89,
   "metadata": {
    "execution": {
     "iopub.execute_input": "2023-01-24T19:27:26.992791Z",
     "iopub.status.busy": "2023-01-24T19:27:26.992561Z",
     "iopub.status.idle": "2023-01-24T19:27:27.763054Z",
     "shell.execute_reply": "2023-01-24T19:27:27.762313Z",
     "shell.execute_reply.started": "2023-01-24T19:27:26.992765Z"
    },
    "tags": []
   },
   "outputs": [
    {
     "data": {
      "application/vnd.jupyter.widget-view+json": {
       "model_id": "5347ac0aa53743f3ace60c2e51e256d9",
       "version_major": 2,
       "version_minor": 0
      },
      "text/plain": [
       "VBox()"
      ]
     },
     "metadata": {},
     "output_type": "display_data"
    },
    {
     "data": {
      "application/vnd.jupyter.widget-view+json": {
       "model_id": "",
       "version_major": 2,
       "version_minor": 0
      },
      "text/plain": [
       "FloatProgress(value=0.0, bar_style='info', description='Progress:', layout=Layout(height='25px', width='50%'),…"
      ]
     },
     "metadata": {},
     "output_type": "display_data"
    },
    {
     "name": "stdout",
     "output_type": "stream",
     "text": [
      "distinctAirports: Long = 16\n",
      "distinctAircraftModels: Long = 43\n"
     ]
    }
   ],
   "source": [
    "//1.How many distinct airports and aircraft models\n",
    "val distinctAirports = rddFlightsCached.\n",
    "    map(x => x.startingAirport).\n",
    "    distinct.union(\n",
    "        rddFlightsCached.map(x => x.destinationAirport).distinct).\n",
    "    distinct.count\n",
    "val distinctAircraftModels = rddFlightsCached.flatMap(x => x.airplaneType).distinct.count"
   ]
  },
  {
   "cell_type": "code",
   "execution_count": 90,
   "metadata": {
    "execution": {
     "iopub.execute_input": "2023-01-24T19:27:29.830424Z",
     "iopub.status.busy": "2023-01-24T19:27:29.829806Z",
     "iopub.status.idle": "2023-01-24T19:27:30.712217Z",
     "shell.execute_reply": "2023-01-24T19:27:30.711380Z",
     "shell.execute_reply.started": "2023-01-24T19:27:29.830393Z"
    },
    "tags": []
   },
   "outputs": [
    {
     "data": {
      "application/vnd.jupyter.widget-view+json": {
       "model_id": "cdd99dd1bf0f4fe28d8f9c0ff14e7829",
       "version_major": 2,
       "version_minor": 0
      },
      "text/plain": [
       "VBox()"
      ]
     },
     "metadata": {},
     "output_type": "display_data"
    },
    {
     "data": {
      "application/vnd.jupyter.widget-view+json": {
       "model_id": "",
       "version_major": 2,
       "version_minor": 0
      },
      "text/plain": [
       "FloatProgress(value=0.0, bar_style='info', description='Progress:', layout=Layout(height='25px', width='50%'),…"
      ]
     },
     "metadata": {},
     "output_type": "display_data"
    },
    {
     "name": "stdout",
     "output_type": "stream",
     "text": [
      "Frontier Airlines => 165.84 avg minutes\n",
      "United => 186.45 avg minutes\n",
      "Delta => 152.53 avg minutes\n",
      "Spirit Airlines => 178.69 avg minutes\n",
      "Alaska Airlines => 243.72 avg minutes\n",
      "American Airlines => 183.45 avg minutes\n",
      "JetBlue Airways => 200.58 avg minutes\n",
      "distinctAirlines: Unit = ()\n"
     ]
    }
   ],
   "source": [
    "//2. Average travel duration for each airline, in non stop flights\n",
    "val distinctAirlines = rddFlightsCached.\n",
    "    filter(x => x.isNonStop).\n",
    "    map(x => (x.airplaneName(0), x.travelDuration)).\n",
    "    aggregateByKey((0.0, 0.0))((a,v)=>(a._1+v, a._2+1), (a1,a2)=>(a1._1+a2._1, a1._2+a2._2)).\n",
    "    map({case(k,v)=>(k,v._1/v._2)}).\n",
    "    collect().\n",
    "    foreach({case (airline, value) => println(airline + \" => \" + round(value) + \" avg minutes\")})"
   ]
  },
  {
   "cell_type": "code",
   "execution_count": 91,
   "metadata": {
    "execution": {
     "iopub.execute_input": "2023-01-24T19:27:33.122624Z",
     "iopub.status.busy": "2023-01-24T19:27:33.122367Z",
     "iopub.status.idle": "2023-01-24T19:27:33.886554Z",
     "shell.execute_reply": "2023-01-24T19:27:33.885739Z",
     "shell.execute_reply.started": "2023-01-24T19:27:33.122597Z"
    },
    "tags": []
   },
   "outputs": [
    {
     "data": {
      "application/vnd.jupyter.widget-view+json": {
       "model_id": "2d20f30839d8415094747de0480218b2",
       "version_major": 2,
       "version_minor": 0
      },
      "text/plain": [
       "VBox()"
      ]
     },
     "metadata": {},
     "output_type": "display_data"
    },
    {
     "data": {
      "application/vnd.jupyter.widget-view+json": {
       "model_id": "",
       "version_major": 2,
       "version_minor": 0
      },
      "text/plain": [
       "FloatProgress(value=0.0, bar_style='info', description='Progress:', layout=Layout(height='25px', width='50%'),…"
      ]
     },
     "metadata": {},
     "output_type": "display_data"
    },
    {
     "name": "stdout",
     "output_type": "stream",
     "text": [
      "res183: String = 8.34 %\n"
     ]
    }
   ],
   "source": [
    "//3. Percentage of basic economy tickets, based on all tickets\n",
    "round((rddFlightsCached.filter(_.isBasicEconomy).count.toDouble/numberOfRecords).toDouble*100) + \" %\""
   ]
  },
  {
   "cell_type": "code",
   "execution_count": 92,
   "metadata": {
    "execution": {
     "iopub.execute_input": "2023-01-24T19:27:35.885424Z",
     "iopub.status.busy": "2023-01-24T19:27:35.885188Z",
     "iopub.status.idle": "2023-01-24T19:27:36.141009Z",
     "shell.execute_reply": "2023-01-24T19:27:36.140342Z",
     "shell.execute_reply.started": "2023-01-24T19:27:35.885399Z"
    },
    "tags": []
   },
   "outputs": [
    {
     "data": {
      "application/vnd.jupyter.widget-view+json": {
       "model_id": "3ebda2dc567a4870a7b3f1aa029c94f6",
       "version_major": 2,
       "version_minor": 0
      },
      "text/plain": [
       "VBox()"
      ]
     },
     "metadata": {},
     "output_type": "display_data"
    },
    {
     "data": {
      "application/vnd.jupyter.widget-view+json": {
       "model_id": "",
       "version_major": 2,
       "version_minor": 0
      },
      "text/plain": [
       "FloatProgress(value=0.0, bar_style='info', description='Progress:', layout=Layout(height='25px', width='50%'),…"
      ]
     },
     "metadata": {},
     "output_type": "display_data"
    },
    {
     "name": "stdout",
     "output_type": "stream",
     "text": [
      "res185: String = 28.09 %\n"
     ]
    }
   ],
   "source": [
    "//4. Percentage of non-stop flights (flights with one leg)\n",
    "round((rddFlightsCached.filter(_.isNonStop).count.toDouble/numberOfRecords).toDouble*100) + \" %\""
   ]
  },
  {
   "cell_type": "code",
   "execution_count": 93,
   "metadata": {
    "execution": {
     "iopub.execute_input": "2023-01-24T19:27:38.801388Z",
     "iopub.status.busy": "2023-01-24T19:27:38.801140Z",
     "iopub.status.idle": "2023-01-24T19:27:39.563647Z",
     "shell.execute_reply": "2023-01-24T19:27:39.562950Z",
     "shell.execute_reply.started": "2023-01-24T19:27:38.801361Z"
    },
    "tags": []
   },
   "outputs": [
    {
     "data": {
      "application/vnd.jupyter.widget-view+json": {
       "model_id": "66c177429c474786b4fd40dee4480fa7",
       "version_major": 2,
       "version_minor": 0
      },
      "text/plain": [
       "VBox()"
      ]
     },
     "metadata": {},
     "output_type": "display_data"
    },
    {
     "data": {
      "application/vnd.jupyter.widget-view+json": {
       "model_id": "",
       "version_major": 2,
       "version_minor": 0
      },
      "text/plain": [
       "FloatProgress(value=0.0, bar_style='info', description='Progress:', layout=Layout(height='25px', width='50%'),…"
      ]
     },
     "metadata": {},
     "output_type": "display_data"
    },
    {
     "name": "stdout",
     "output_type": "stream",
     "text": [
      "ticketPrices: org.apache.spark.rdd.RDD[Double] = MapPartitionsRDD[205] at map at <console>:24\n",
      "res187: String = Range of prices: 23.97 to 3810.6\n",
      "res188: String = Avg price: 351.64\n"
     ]
    }
   ],
   "source": [
    "//5. Average and price range of tickets\n",
    "val ticketPrices = rddFlightsCached.map(x => x.totalFare) // TODO with all dataset try performance with and without a cache\n",
    "\"Range of prices: \"  + ticketPrices.min + \" to \" + ticketPrices.max\n",
    "\"Avg price: \" + round((ticketPrices.sum/numberOfRecords).toDouble)"
   ]
  },
  {
   "cell_type": "code",
   "execution_count": 94,
   "metadata": {
    "execution": {
     "iopub.execute_input": "2023-01-24T19:27:42.000569Z",
     "iopub.status.busy": "2023-01-24T19:27:42.000325Z",
     "iopub.status.idle": "2023-01-24T19:27:42.761626Z",
     "shell.execute_reply": "2023-01-24T19:27:42.760687Z",
     "shell.execute_reply.started": "2023-01-24T19:27:42.000544Z"
    },
    "tags": []
   },
   "outputs": [
    {
     "data": {
      "application/vnd.jupyter.widget-view+json": {
       "model_id": "9ac608ae1b064bab90f4020d23d0462d",
       "version_major": 2,
       "version_minor": 0
      },
      "text/plain": [
       "VBox()"
      ]
     },
     "metadata": {},
     "output_type": "display_data"
    },
    {
     "data": {
      "application/vnd.jupyter.widget-view+json": {
       "model_id": "",
       "version_major": 2,
       "version_minor": 0
      },
      "text/plain": [
       "FloatProgress(value=0.0, bar_style='info', description='Progress:', layout=Layout(height='25px', width='50%'),…"
      ]
     },
     "metadata": {},
     "output_type": "display_data"
    },
    {
     "name": "stdout",
     "output_type": "stream",
     "text": [
      "Frontier Airlines => 112.7\n",
      "United => 283.57\n",
      "Delta => 249.71\n",
      "Spirit Airlines => 133.39\n",
      "Alaska Airlines => 277.86\n",
      "American Airlines => 267.75\n",
      "JetBlue Airways => 231.55\n",
      "avgTicketPricePerAirline: Unit = ()\n"
     ]
    }
   ],
   "source": [
    "//6. Average ticket price for each airline\n",
    "val avgTicketPricePerAirline = rddFlightsCached.\n",
    "    filter(_.isNonStop).\n",
    "    map(x => (x.airplaneName(0),(x.totalFare, 1))).\n",
    "    reduceByKey((a,b) => (a._1+b._1, a._2+b._2)).\n",
    "    map(m => (m._1,m._2._1/m._2._2)).\n",
    "    collect.foreach({case (name, value) => println(name + \" => \" + round(value))})"
   ]
  },
  {
   "cell_type": "code",
   "execution_count": null,
   "metadata": {},
   "outputs": [],
   "source": [
    "//7. Average and range of travel distance"
   ]
  },
  {
   "cell_type": "code",
   "execution_count": 95,
   "metadata": {
    "execution": {
     "iopub.execute_input": "2023-01-24T19:27:45.197761Z",
     "iopub.status.busy": "2023-01-24T19:27:45.197515Z",
     "iopub.status.idle": "2023-01-24T19:27:45.961662Z",
     "shell.execute_reply": "2023-01-24T19:27:45.960901Z",
     "shell.execute_reply.started": "2023-01-24T19:27:45.197735Z"
    },
    "tags": []
   },
   "outputs": [
    {
     "data": {
      "application/vnd.jupyter.widget-view+json": {
       "model_id": "381eceb4a5ee41739d4cec3bea379f2c",
       "version_major": 2,
       "version_minor": 0
      },
      "text/plain": [
       "VBox()"
      ]
     },
     "metadata": {},
     "output_type": "display_data"
    },
    {
     "data": {
      "application/vnd.jupyter.widget-view+json": {
       "model_id": "",
       "version_major": 2,
       "version_minor": 0
      },
      "text/plain": [
       "FloatProgress(value=0.0, bar_style='info', description='Progress:', layout=Layout(height='25px', width='50%'),…"
      ]
     },
     "metadata": {},
     "output_type": "display_data"
    },
    {
     "name": "stdout",
     "output_type": "stream",
     "text": [
      "LAX => 43019\n",
      "LGA => 36384\n",
      "DFW => 32115\n",
      "MIA => 32009\n",
      "BOS => 31642\n",
      "ORD => 31537\n",
      "CLT => 30388\n",
      "ATL => 30196\n",
      "SFO => 30048\n",
      "DEN => 28267\n",
      "topAirports: Unit = ()\n"
     ]
    }
   ],
   "source": [
    "//8. Top 10 airports with more arriving flights\n",
    "val topAirports = rddFlightsCached.\n",
    "    map(x => (x.destinationAirport, 1)).\n",
    "    reduceByKey(_+_).\n",
    "    sortBy(_._2, false).\n",
    "    take(10).\n",
    "    foreach({case (name, value) => println(name + \" => \" + value)})"
   ]
  },
  {
   "cell_type": "markdown",
   "metadata": {},
   "source": [
    "## Personal works\n",
    "\n",
    "> Basta una query compicata a testa\n",
    "\n",
    "Query approfondite:\n",
    "\n",
    "- Denys:\n",
    "    - Aggrego “airline” e “aircraft model” per determinare il prezzo medio di un miglio nautico, e dopo aggrego (MIN) su “aircraft model” per trovare l'airline che vende i biglietti più economici per quel modello.\n",
    "    - Aggrego su “aircraft model” per calcolare la “travel distance” totale percorsa da ogni modello, poi faccio self-join e aggregazione per determinare il “travel duration” per ogni “aircraft model”. Alla fine determino la velocità di ogni modello partendo dai dati aggregati.\n",
    "- Riccardo:\n",
    "    - Aggrego su “aircraft models” per calcolare la classifica discreta dei modelli più usati rispetto a ciascuna “airline”. Eseguo il join col dataset originale, infine riaggrego su “travel duration” e sulla classificazione di prima. Ottengo la durata di media di ogni volo per ogni compagnia (oltre a numero di voli e totale di ore) sul modello di aereo più utilizzato\n",
    "    - Aggrego su giorno ed airline per calcolare la distanza totale, poi aggrego su airline per calcolare la media dei totali giornalieri (di distanza) per ciascuna compagnia aerea\n",
    "    - Aggrego su aeroporto di arrivo e di partenza, calcolando per ogni copia un AVG dei prezzi dei biglietti. Join con dataset originale. Aggrego nuovamente sulla classificazione di prima e sulla distanza totale percorsa. Ottengo così per ogni tratta il prezzo medio e la distanza media percorsa."
   ]
  },
  {
   "cell_type": "code",
   "execution_count": null,
   "metadata": {},
   "outputs": [],
   "source": [
    "val path_output = \"s3a://\"+bucketname+\"/spark/avgRatPerMovie\" //todo"
   ]
  }
 ],
 "metadata": {
  "kernelspec": {
   "display_name": "Spark",
   "language": "scala",
   "name": "sparkkernel"
  },
  "language_info": {
   "codemirror_mode": "text/x-scala",
   "file_extension": ".sc",
   "mimetype": "text/x-scala",
   "name": "scala",
   "pygments_lexer": "scala"
  }
 },
 "nbformat": 4,
 "nbformat_minor": 4
}
