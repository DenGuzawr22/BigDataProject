{
 "cells": [
  {
   "cell_type": "markdown",
   "metadata": {},
   "source": [
    "# Big Data Project"
   ]
  },
  {
   "cell_type": "markdown",
   "metadata": {},
   "source": [
    "## Configuration"
   ]
  },
  {
   "cell_type": "code",
   "execution_count": 1,
   "metadata": {
    "execution": {
     "iopub.execute_input": "2023-01-30T10:00:53.196494Z",
     "iopub.status.busy": "2023-01-30T10:00:53.196179Z",
     "iopub.status.idle": "2023-01-30T10:00:53.217054Z",
     "shell.execute_reply": "2023-01-30T10:00:53.216387Z",
     "shell.execute_reply.started": "2023-01-30T10:00:53.196465Z"
    },
    "tags": []
   },
   "outputs": [
    {
     "data": {
      "text/html": [
       "Current session configs: <tt>{'executorMemory': '8G', 'numExecutors': 2, 'executorCores': 3, 'conf': {'spark.dynamicAllocation.enabled': 'false'}, 'proxyUser': 'assumed-role_voclabs_user2193318_Denys_Grushchak', 'kind': 'spark'}</tt><br>"
      ],
      "text/plain": [
       "<IPython.core.display.HTML object>"
      ]
     },
     "metadata": {},
     "output_type": "display_data"
    },
    {
     "data": {
      "text/html": [
       "No active sessions."
      ],
      "text/plain": [
       "<IPython.core.display.HTML object>"
      ]
     },
     "metadata": {},
     "output_type": "display_data"
    }
   ],
   "source": [
    "%%configure -f\n",
    "{\"executorMemory\":\"8G\", \"numExecutors\":2, \"executorCores\":3, \"conf\": {\"spark.dynamicAllocation.enabled\": \"false\"}}"
   ]
  },
  {
   "cell_type": "code",
   "execution_count": 102,
   "metadata": {
    "execution": {
     "iopub.execute_input": "2023-01-30T11:18:49.515195Z",
     "iopub.status.busy": "2023-01-30T11:18:49.514966Z",
     "iopub.status.idle": "2023-01-30T11:18:50.280995Z",
     "shell.execute_reply": "2023-01-30T11:18:50.280157Z",
     "shell.execute_reply.started": "2023-01-30T11:18:49.515170Z"
    },
    "tags": []
   },
   "outputs": [
    {
     "data": {
      "application/vnd.jupyter.widget-view+json": {
       "model_id": "f89a545bf7fb40cda4d4df810990924e",
       "version_major": 2,
       "version_minor": 0
      },
      "text/plain": [
       "VBox()"
      ]
     },
     "metadata": {},
     "output_type": "display_data"
    },
    {
     "data": {
      "application/vnd.jupyter.widget-view+json": {
       "model_id": "",
       "version_major": 2,
       "version_minor": 0
      },
      "text/plain": [
       "FloatProgress(value=0.0, bar_style='info', description='Progress:', layout=Layout(height='25px', width='50%'),…"
      ]
     },
     "metadata": {},
     "output_type": "display_data"
    },
    {
     "name": "stdout",
     "output_type": "stream",
     "text": [
      "bucketname: String = unibo-bd2122-dgrushchak\n",
      "path_flights_db: String = s3a://unibo-bd2122-dgrushchak/project/small_file_10000000.txt\n",
      "res228: String = application_1675070277172_0002\n",
      "res230: String = SPARK UI: Enable forwarding of port 20888 and connect to http://localhost:20888/proxy/application_1675070277172_0002/\n"
     ]
    }
   ],
   "source": [
    "//Denys: val bucketname = \"unibo-bd2122-dgrushchak\"\n",
    "//Riccardo: val bucketname = \"unibo-bd2223-rbacca\"\n",
    "\n",
    "val bucketname =\"unibo-bd2122-dgrushchak\"\n",
    "\n",
    "//Denys: val path_flights_db = \"s3a://\"+bucketname+\"/projectNoDuplication/part-00000\"\n",
    "//Denys: val path_flights_db = \"s3a://\"+bucketname+\"/projectTest/NoDuplication/part-00000\"\n",
    "//Riccardo:val path_flights_db = \"s3a://\"+bucketname+\"/bigdata-project/part_1.txt\"\n",
    "\n",
    "val path_flights_db =  \"s3a://\"+bucketname+\"/project/small_file_10000000.txt\"\n",
    "\n",
    "sc.applicationId\n",
    "\n",
    "\"SPARK UI: Enable forwarding of port 20888 and connect to http://localhost:20888/proxy/\" + sc.applicationId + \"/\""
   ]
  },
  {
   "cell_type": "markdown",
   "metadata": {
    "tags": []
   },
   "source": [
    "### Parsing\n",
    "This parser make flights flat on base of number of the leg.\n",
    "\n",
    "If a flight has two legs it will be splitted into 2 rows that:\n",
    "* duplicate for each row the fields as: id, flightDate, startingAirport, destinationAirport, isNonStop, isBasicEconomy.\n",
    "* has one value of the two that was saved together in fields as: airplaneType, airlineName, segmentDistance, segmentDuration.\n",
    "* recalculate a totalFare for each row on base of segmentDistance. Sum of two row must return the original value\n",
    "\n",
    "id is a new field that replace the orinal identifier"
   ]
  },
  {
   "cell_type": "code",
   "execution_count": 103,
   "metadata": {
    "execution": {
     "iopub.execute_input": "2023-01-30T11:18:55.010266Z",
     "iopub.status.busy": "2023-01-30T11:18:55.010026Z",
     "iopub.status.idle": "2023-01-30T11:18:55.776000Z",
     "shell.execute_reply": "2023-01-30T11:18:55.775108Z",
     "shell.execute_reply.started": "2023-01-30T11:18:55.010240Z"
    },
    "tags": []
   },
   "outputs": [
    {
     "data": {
      "application/vnd.jupyter.widget-view+json": {
       "model_id": "a794ecd151f94f6bb0d42076294a47e1",
       "version_major": 2,
       "version_minor": 0
      },
      "text/plain": [
       "VBox()"
      ]
     },
     "metadata": {},
     "output_type": "display_data"
    },
    {
     "data": {
      "application/vnd.jupyter.widget-view+json": {
       "model_id": "",
       "version_major": 2,
       "version_minor": 0
      },
      "text/plain": [
       "FloatProgress(value=0.0, bar_style='info', description='Progress:', layout=Layout(height='25px', width='50%'),…"
      ]
     },
     "metadata": {},
     "output_type": "display_data"
    },
    {
     "name": "stdout",
     "output_type": "stream",
     "text": [
      "defined type alias MyTuple\n",
      "defined object FlatParser\n"
     ]
    }
   ],
   "source": [
    "type MyTuple = (String, String, String, String, String, Boolean, Boolean, Double, Int, Int)\n",
    "object FlatParser{\n",
    "    import scala.collection.mutable.ArrayBuffer\n",
    "    import scala.collection.mutable.ListBuffer\n",
    "    val commaRegex = \",(?=(?:[^\\\"]*\\\"[^\\\"]*\\\")*[^\\\"]*$)\"\n",
    "    val doubleVerticalLine = \"\\\\|\\\\|\"\n",
    "    \n",
    "    case class FlatFlightData(\n",
    "        id: Long,                   //1\n",
    "        flightDate: String,         //2      \n",
    "        startingAirport: String,    //3 \n",
    "        destinationAirport: String, //4\n",
    "        airplaneType: String,       //5\n",
    "        airlineName: String,        //6\n",
    "        isNonStop: Boolean,         //7 \n",
    "        isBasicEconomy: Boolean,    //8 \n",
    "        totalFare: Double,          //9\n",
    "        segmentDuration: Int,     //10\n",
    "        segmentDistance: Int      //11\n",
    "    ){\n",
    "        // return a tuple of the object\n",
    "        def un() = FlatFlightData.unapply(this).get \n",
    "    }\n",
    "    \n",
    "    def convertAirplaneType(value: String): Array[String] = {\n",
    "        //Ex. input Airbus A320||Boeing 737-800\n",
    "        val result = value.split(doubleVerticalLine)\n",
    "        if (result.head == \"\") Array.empty\n",
    "        else result\n",
    "    }\n",
    "    \n",
    "    def convertAirlineName(value: String): Array[String] = {\n",
    "        val result = value.split(doubleVerticalLine)\n",
    "        if (result.head == \"\") Array.empty\n",
    "        else result\n",
    "    }\n",
    "    \n",
    "    //return array of duration of each leg in minutes\n",
    "    def convertSegmentsDuration(value: String): Array[Int] = {\n",
    "        val result = value.split(doubleVerticalLine)\n",
    "        if (result.head == \"\") Array.empty\n",
    "        else result.map(_.toInt/60)\n",
    "    }\n",
    "    \n",
    "    def convertSegmentsDistance(value: String): Array[Int] = {\n",
    "        val result = value.split(doubleVerticalLine)\n",
    "        if(result.head == \"\" || result.head == \"None\") Array.empty\n",
    "        else result.map(_.toInt)\n",
    "    }\n",
    "   \n",
    "    def parseFlightInformationLine(line: String): Option[ListBuffer[MyTuple]] = {\n",
    "        try {\n",
    "            val input = line.split(commaRegex)\n",
    "            \n",
    "            val airplanes = convertAirplaneType(input(23)) //airplane type [String||String] \n",
    "            val airline = convertAirlineName(input(21)) // airliine name  [String||String]\n",
    "            val segmentsDuration = convertSegmentsDuration(input(24)) // segments duration in seconds (but the function return duration in minutes)\n",
    "            val segmentsDistance = convertSegmentsDistance(input(25))// segment distance in milles: Vector of [Int||Int]  can be [None||None]\n",
    "            if (airplanes.isEmpty || \n",
    "                airline.isEmpty || \n",
    "                segmentsDuration.isEmpty || \n",
    "                segmentsDistance.isEmpty|| \n",
    "                airplanes.length != airline.length ||\n",
    "                airplanes.length != segmentsDuration.length ||\n",
    "                airplanes.length != segmentsDistance.length ) None\n",
    "            else {\n",
    "                val arr: ListBuffer[MyTuple] = ListBuffer()\n",
    "                val distanceSum = segmentsDistance.reduce(_+_).toDouble\n",
    "                for (i <- 0 until airplanes.length){\n",
    "                    val legPriceBasedOnDistance: Double = (segmentsDistance(i).toDouble/distanceSum) * input(12).toDouble //12 baseFare in $\n",
    "                    arr += ((input(2), //flightdate\n",
    "                             input(3), //starting airport\n",
    "                             input(4), //destination airport\n",
    "                             airplanes(i),\n",
    "                             airline(i),\n",
    "                             input(10).toBoolean,  //isNonStop\n",
    "                             input(8).toBoolean,  //isBasicEconomy\n",
    "                             legPriceBasedOnDistance,\n",
    "                             segmentsDuration(i),\n",
    "                             segmentsDistance(i))\n",
    "                    )\n",
    "                }\n",
    "                Some(arr)\n",
    "            }\n",
    "        } catch {\n",
    "            case _: Exception => None\n",
    "        }\n",
    "    }\n",
    "}"
   ]
  },
  {
   "cell_type": "markdown",
   "metadata": {},
   "source": [
    "### Create and save dataset without duplication\n",
    "The original dataset has duplicated record and their removing can take very long time.\n",
    "We decide to create a new dataset that has original format but have not duplicated records\n",
    "> This code must be executed only once then produced files can be used as sources"
   ]
  },
  {
   "cell_type": "markdown",
   "metadata": {},
   "source": [
    "This code:\n",
    "1. Read and parse the original data\n",
    "2. Create a new numeric identifier\n",
    "3. Replace original textual identifier and insert the data in FlatFlighData class\n",
    "4. Create a cache"
   ]
  },
  {
   "cell_type": "code",
   "execution_count": 108,
   "metadata": {
    "execution": {
     "iopub.execute_input": "2023-01-30T11:34:22.395620Z",
     "iopub.status.busy": "2023-01-30T11:34:22.395338Z",
     "iopub.status.idle": "2023-01-30T11:41:10.842565Z",
     "shell.execute_reply": "2023-01-30T11:41:10.841746Z",
     "shell.execute_reply.started": "2023-01-30T11:34:22.395595Z"
    },
    "tags": []
   },
   "outputs": [
    {
     "data": {
      "application/vnd.jupyter.widget-view+json": {
       "model_id": "7c4ab4fe44fb4259910632dd701146cc",
       "version_major": 2,
       "version_minor": 0
      },
      "text/plain": [
       "VBox()"
      ]
     },
     "metadata": {},
     "output_type": "display_data"
    },
    {
     "data": {
      "application/vnd.jupyter.widget-view+json": {
       "model_id": "",
       "version_major": 2,
       "version_minor": 0
      },
      "text/plain": [
       "FloatProgress(value=0.0, bar_style='info', description='Progress:', layout=Layout(height='25px', width='50%'),…"
      ]
     },
     "metadata": {},
     "output_type": "display_data"
    },
    {
     "name": "stdout",
     "output_type": "stream",
     "text": [
      "import org.apache.spark.storage.StorageLevel._\n",
      "parsedData: org.apache.spark.rdd.RDD[scala.collection.mutable.ListBuffer[MyTuple]] = MapPartitionsRDD[368] at flatMap at <console>:29\n",
      "rddFlightsCached: org.apache.spark.rdd.RDD[FlatParser.FlatFlightData] = MapPartitionsRDD[372] at map at <console>:32\n"
     ]
    }
   ],
   "source": [
    "sc.getPersistentRDDs.foreach(_._2.unpersist()) \n",
    "import org.apache.spark.storage.StorageLevel._\n",
    "//zipWithIndex trigger a spark job, for not parse twice all the data we save parsed data on the disk\n",
    "val parsedData = sc.textFile(path_flights_db).flatMap(FlatParser.parseFlightInformationLine).persist(DISK_ONLY)\n",
    "\n",
    "val rddFlightsCached = parsedData.\n",
    "    zipWithIndex(). // Introduce numeric id for each flight row\n",
    "    map({case (v, i) => (i, v)}).\n",
    "    flatMapValues(m => m).\n",
    "    map({case (k, v) => FlatParser.FlatFlightData.apply(k, v._1, v._2, v._3, v._4, v._5, v._6, v._7, v._8, v._9, v._10)}).cache\n",
    "//     map({case (k, v) => FlatParser.FlatFlightData.apply(k, v._2, v._3, v._4, v._5, v._6, v._7, v._8, v._9, v._10, v._11)}).cache"
   ]
  },
  {
   "cell_type": "code",
   "execution_count": 110,
   "metadata": {
    "execution": {
     "iopub.execute_input": "2023-01-30T11:42:25.730190Z",
     "iopub.status.busy": "2023-01-30T11:42:25.729932Z",
     "iopub.status.idle": "2023-01-30T11:42:39.058235Z",
     "shell.execute_reply": "2023-01-30T11:42:39.057445Z",
     "shell.execute_reply.started": "2023-01-30T11:42:25.730162Z"
    },
    "tags": []
   },
   "outputs": [
    {
     "data": {
      "application/vnd.jupyter.widget-view+json": {
       "model_id": "16af8b0218bb43eca82e878ca9d6b027",
       "version_major": 2,
       "version_minor": 0
      },
      "text/plain": [
       "VBox()"
      ]
     },
     "metadata": {},
     "output_type": "display_data"
    },
    {
     "data": {
      "application/vnd.jupyter.widget-view+json": {
       "model_id": "",
       "version_major": 2,
       "version_minor": 0
      },
      "text/plain": [
       "FloatProgress(value=0.0, bar_style='info', description='Progress:', layout=Layout(height='25px', width='50%'),…"
      ]
     },
     "metadata": {},
     "output_type": "display_data"
    },
    {
     "name": "stdout",
     "output_type": "stream",
     "text": [
      "(0,2022-04-17,ATL,BOS,Airbus A321,Delta,true,false,248.6,149,947)\n",
      "(1,2022-04-17,ATL,BOS,Airbus A321,Delta,true,false,248.6,150,947)\n",
      "(2,2022-04-17,ATL,BOS,Boeing 757-200,Delta,true,false,248.6,150,947)\n",
      "(3,2022-04-17,ATL,BOS,Airbus A321,Delta,true,false,248.6,152,947)\n",
      "(4,2022-04-17,ATL,BOS,Airbus A321,Delta,true,false,248.6,154,947)\n",
      "(5,2022-04-17,ATL,BOS,Airbus A320,American Airlines,false,false,59.885774058577404,90,228)\n",
      "(5,2022-04-17,ATL,BOS,Airbus A320,American Airlines,false,false,191.2142259414226,125,728)\n",
      "(6,2022-04-17,ATL,BOS,Airbus A320,American Airlines,false,false,59.885774058577404,90,228)\n",
      "(6,2022-04-17,ATL,BOS,Boeing 737-800,American Airlines,false,false,191.2142259414226,138,728)\n",
      "(7,2022-04-17,ATL,BOS,Airbus A319,American Airlines,false,false,59.885774058577404,81,228)\n",
      "round: (v: Double)Double\n",
      "numberOfRecords: Long = 8636358\n",
      "totalNumberOfTuples: Long = 15315726\n"
     ]
    }
   ],
   "source": [
    "rddFlightsCached.map(_.un()).take(10).foreach(println)\n",
    "// rdd.map(_.un()).filter(f => f._3 == \"ATL\" && f._4 == \"BOS\" && f._5 == \"Airbus A320\" && f._6 == \"American Airlines\").sortBy(s => s._2).take(10).foreach(println)\n",
    "\n",
    "def round(v: Double): Double = {\n",
    "    (v*100).toInt/100.toDouble\n",
    "}\n",
    "\n",
    "val numberOfRecords = rddFlightsCached.map(_.id).distinct.count\n",
    "val totalNumberOfTuples = rddFlightsCached.count"
   ]
  },
  {
   "cell_type": "markdown",
   "metadata": {},
   "source": [
    "## Explorative queries\n",
    "\n",
    "1. How many distinct airports and aircraft models\n",
    "2. Average travel duration for airline, only in non-stop flights\n",
    "3. Percentage of basic economy tickets, based on all tickets\n",
    "4. Percentage of non-stop flights (flights with one leg)\n",
    "5. Average and price range of tickets\n",
    "6. Average ticket price for each airline\n",
    "7. Average and range of travel distance\n",
    "8. Top 10 airports with more arriving flights\n"
   ]
  },
  {
   "cell_type": "code",
   "execution_count": 94,
   "metadata": {
    "execution": {
     "iopub.execute_input": "2023-01-30T11:16:47.574971Z",
     "iopub.status.busy": "2023-01-30T11:16:47.574729Z",
     "iopub.status.idle": "2023-01-30T11:16:49.860235Z",
     "shell.execute_reply": "2023-01-30T11:16:49.859439Z",
     "shell.execute_reply.started": "2023-01-30T11:16:47.574946Z"
    },
    "tags": []
   },
   "outputs": [
    {
     "data": {
      "application/vnd.jupyter.widget-view+json": {
       "model_id": "46a9d91f00c842709876807e7cdbb1e1",
       "version_major": 2,
       "version_minor": 0
      },
      "text/plain": [
       "VBox()"
      ]
     },
     "metadata": {},
     "output_type": "display_data"
    },
    {
     "data": {
      "application/vnd.jupyter.widget-view+json": {
       "model_id": "",
       "version_major": 2,
       "version_minor": 0
      },
      "text/plain": [
       "FloatProgress(value=0.0, bar_style='info', description='Progress:', layout=Layout(height='25px', width='50%'),…"
      ]
     },
     "metadata": {},
     "output_type": "display_data"
    },
    {
     "name": "stdout",
     "output_type": "stream",
     "text": [
      "distinctAirports: Long = 16\n",
      "distinctAircraftModels: Long = 53\n"
     ]
    }
   ],
   "source": [
    "//1.How many distinct airports and aircraft models\n",
    "val distinctAirports = rddFlightsCached.\n",
    "    map(x => x.startingAirport).\n",
    "    distinct.\n",
    "    union(rddFlightsCached.map(x => x.destinationAirport).distinct).\n",
    "    distinct.count\n",
    "val distinctAircraftModels = rddFlightsCached.flatMap(x => x.airplaneType).distinct.count"
   ]
  },
  {
   "cell_type": "code",
   "execution_count": 95,
   "metadata": {
    "execution": {
     "iopub.execute_input": "2023-01-30T11:16:55.715028Z",
     "iopub.status.busy": "2023-01-30T11:16:55.714782Z",
     "iopub.status.idle": "2023-01-30T11:16:56.482258Z",
     "shell.execute_reply": "2023-01-30T11:16:56.481383Z",
     "shell.execute_reply.started": "2023-01-30T11:16:55.715003Z"
    },
    "tags": []
   },
   "outputs": [
    {
     "data": {
      "application/vnd.jupyter.widget-view+json": {
       "model_id": "abe42ec55f08408a8401c585c9f496f5",
       "version_major": 2,
       "version_minor": 0
      },
      "text/plain": [
       "VBox()"
      ]
     },
     "metadata": {},
     "output_type": "display_data"
    },
    {
     "data": {
      "application/vnd.jupyter.widget-view+json": {
       "model_id": "",
       "version_major": 2,
       "version_minor": 0
      },
      "text/plain": [
       "FloatProgress(value=0.0, bar_style='info', description='Progress:', layout=Layout(height='25px', width='50%'),…"
      ]
     },
     "metadata": {},
     "output_type": "display_data"
    },
    {
     "name": "stdout",
     "output_type": "stream",
     "text": [
      "Frontier Airlines => 154.08 avg minutes\n",
      "Sun Country Airlines => 178.57 avg minutes\n",
      "United => 161.23 avg minutes\n",
      "Southern Airways Express => 64.43 avg minutes\n",
      "Cape Air => 68.81 avg minutes\n",
      "Contour Airlines => 82.26 avg minutes\n",
      "Delta => 140.5 avg minutes\n",
      "Key Lime Air => 97.99 avg minutes\n",
      "Boutique Air => 85.36 avg minutes\n",
      "Alaska Airlines => 197.43 avg minutes\n",
      "American Airlines => 147.45 avg minutes\n",
      "JetBlue Airways => 189.25 avg minutes\n",
      "distinctAirlines: Unit = ()\n"
     ]
    }
   ],
   "source": [
    "//2. Average travel duration for each airline, in non stop flights\n",
    "val distinctAirlines = rddFlightsCached.\n",
    "    map(x => (x.airlineName, x.segmentDuration)).\n",
    "    aggregateByKey((0.0, 0.0))((a,v)=>(a._1+v, a._2+1), (a1,a2)=>(a1._1+a2._1, a1._2+a2._2)).\n",
    "    map({case(k,v)=>(k,v._1/v._2)}).\n",
    "    collect().\n",
    "    foreach({case (airline, value) => println(airline + \" => \" + round(value) + \" avg minutes\")})"
   ]
  },
  {
   "cell_type": "code",
   "execution_count": 96,
   "metadata": {
    "execution": {
     "iopub.execute_input": "2023-01-30T11:17:01.834774Z",
     "iopub.status.busy": "2023-01-30T11:17:01.834529Z",
     "iopub.status.idle": "2023-01-30T11:17:02.609771Z",
     "shell.execute_reply": "2023-01-30T11:17:02.609035Z",
     "shell.execute_reply.started": "2023-01-30T11:17:01.834748Z"
    },
    "tags": []
   },
   "outputs": [
    {
     "data": {
      "application/vnd.jupyter.widget-view+json": {
       "model_id": "8384b860931b46b1b9a93a67453955c7",
       "version_major": 2,
       "version_minor": 0
      },
      "text/plain": [
       "VBox()"
      ]
     },
     "metadata": {},
     "output_type": "display_data"
    },
    {
     "data": {
      "application/vnd.jupyter.widget-view+json": {
       "model_id": "",
       "version_major": 2,
       "version_minor": 0
      },
      "text/plain": [
       "FloatProgress(value=0.0, bar_style='info', description='Progress:', layout=Layout(height='25px', width='50%'),…"
      ]
     },
     "metadata": {},
     "output_type": "display_data"
    },
    {
     "name": "stdout",
     "output_type": "stream",
     "text": [
      "res208: String = 8.73 %\n"
     ]
    }
   ],
   "source": [
    "//3. Percentage of basic economy tickets, based on all tickets\n",
    "round((rddFlightsCached.filter(_.isBasicEconomy).map(_.id).distinct.count.toDouble/numberOfRecords).toDouble*100) + \" %\""
   ]
  },
  {
   "cell_type": "code",
   "execution_count": 97,
   "metadata": {
    "execution": {
     "iopub.execute_input": "2023-01-30T11:17:04.699820Z",
     "iopub.status.busy": "2023-01-30T11:17:04.699581Z",
     "iopub.status.idle": "2023-01-30T11:17:05.467446Z",
     "shell.execute_reply": "2023-01-30T11:17:05.466627Z",
     "shell.execute_reply.started": "2023-01-30T11:17:04.699794Z"
    },
    "tags": []
   },
   "outputs": [
    {
     "data": {
      "application/vnd.jupyter.widget-view+json": {
       "model_id": "f92da850e0574715858c9a8d8ed4953c",
       "version_major": 2,
       "version_minor": 0
      },
      "text/plain": [
       "VBox()"
      ]
     },
     "metadata": {},
     "output_type": "display_data"
    },
    {
     "data": {
      "application/vnd.jupyter.widget-view+json": {
       "model_id": "",
       "version_major": 2,
       "version_minor": 0
      },
      "text/plain": [
       "FloatProgress(value=0.0, bar_style='info', description='Progress:', layout=Layout(height='25px', width='50%'),…"
      ]
     },
     "metadata": {},
     "output_type": "display_data"
    },
    {
     "name": "stdout",
     "output_type": "stream",
     "text": [
      "res210: String = 29.7 %\n"
     ]
    }
   ],
   "source": [
    "//4. Percentage of non-stop flights (flights with one leg)\n",
    "round((rddFlightsCached.filter(_.isNonStop).map(_.id).distinct.count.toDouble/numberOfRecords).toDouble*100) + \" %\""
   ]
  },
  {
   "cell_type": "code",
   "execution_count": 98,
   "metadata": {
    "execution": {
     "iopub.execute_input": "2023-01-30T11:17:07.864893Z",
     "iopub.status.busy": "2023-01-30T11:17:07.864651Z",
     "iopub.status.idle": "2023-01-30T11:17:09.149498Z",
     "shell.execute_reply": "2023-01-30T11:17:09.148711Z",
     "shell.execute_reply.started": "2023-01-30T11:17:07.864867Z"
    },
    "tags": []
   },
   "outputs": [
    {
     "data": {
      "application/vnd.jupyter.widget-view+json": {
       "model_id": "91de11f3d1124131b3adb2e0e7c17763",
       "version_major": 2,
       "version_minor": 0
      },
      "text/plain": [
       "VBox()"
      ]
     },
     "metadata": {},
     "output_type": "display_data"
    },
    {
     "data": {
      "application/vnd.jupyter.widget-view+json": {
       "model_id": "",
       "version_major": 2,
       "version_minor": 0
      },
      "text/plain": [
       "FloatProgress(value=0.0, bar_style='info', description='Progress:', layout=Layout(height='25px', width='50%'),…"
      ]
     },
     "metadata": {},
     "output_type": "display_data"
    },
    {
     "name": "stdout",
     "output_type": "stream",
     "text": [
      "ticketPrices: org.apache.spark.rdd.RDD[Double] = MapPartitionsRDD[335] at map at <console>:24\n",
      "res212: String = Range of prices: 23.97 to 3810.6\n",
      "res213: String = Avg price: 356.33\n"
     ]
    }
   ],
   "source": [
    "//5. Average and price range of tickets\n",
    "val ticketPrices = rddFlightsCached.map(x => (x.id,x.totalFare)).reduceByKey(_+_).map(_._2)\n",
    "\"Range of prices: \"  + ticketPrices.min + \" to \" + ticketPrices.max\n",
    "\"Avg price: \" + round((ticketPrices.sum/numberOfRecords).toDouble)"
   ]
  },
  {
   "cell_type": "code",
   "execution_count": 99,
   "metadata": {
    "execution": {
     "iopub.execute_input": "2023-01-30T11:17:12.725346Z",
     "iopub.status.busy": "2023-01-30T11:17:12.725110Z",
     "iopub.status.idle": "2023-01-30T11:17:13.513102Z",
     "shell.execute_reply": "2023-01-30T11:17:13.512383Z",
     "shell.execute_reply.started": "2023-01-30T11:17:12.725320Z"
    },
    "tags": []
   },
   "outputs": [
    {
     "data": {
      "application/vnd.jupyter.widget-view+json": {
       "model_id": "bbc4e38818ed4c27865afda5c672adff",
       "version_major": 2,
       "version_minor": 0
      },
      "text/plain": [
       "VBox()"
      ]
     },
     "metadata": {},
     "output_type": "display_data"
    },
    {
     "data": {
      "application/vnd.jupyter.widget-view+json": {
       "model_id": "",
       "version_major": 2,
       "version_minor": 0
      },
      "text/plain": [
       "FloatProgress(value=0.0, bar_style='info', description='Progress:', layout=Layout(height='25px', width='50%'),…"
      ]
     },
     "metadata": {},
     "output_type": "display_data"
    },
    {
     "name": "stdout",
     "output_type": "stream",
     "text": [
      "Frontier Airlines => 139.53\n",
      "Sun Country Airlines => 203.29\n",
      "United => 214.76\n",
      "Southern Airways Express => 69.29\n",
      "Cape Air => 94.25\n",
      "Contour Airlines => 133.7\n",
      "Delta => 188.15\n",
      "Key Lime Air => 126.02\n",
      "Boutique Air => 143.0\n",
      "Alaska Airlines => 326.07\n",
      "American Airlines => 170.37\n",
      "JetBlue Airways => 194.28\n",
      "avgTicketPricePerAirline: Unit = ()\n"
     ]
    }
   ],
   "source": [
    "//6. Average ticket price for each airline\n",
    "val avgTicketPricePerAirline = rddFlightsCached.\n",
    "    map(x => (x.airlineName,(x.totalFare, 1))).\n",
    "    reduceByKey((a,b) => (a._1+b._1, a._2+b._2)).\n",
    "    map(m => (m._1,m._2._1/m._2._2)).\n",
    "    collect.foreach({case (name, value) => println(name + \" => \" + round(value))})"
   ]
  },
  {
   "cell_type": "code",
   "execution_count": 100,
   "metadata": {
    "execution": {
     "iopub.execute_input": "2023-01-30T11:17:17.564979Z",
     "iopub.status.busy": "2023-01-30T11:17:17.564742Z",
     "iopub.status.idle": "2023-01-30T11:17:18.836495Z",
     "shell.execute_reply": "2023-01-30T11:17:18.835680Z",
     "shell.execute_reply.started": "2023-01-30T11:17:17.564952Z"
    },
    "tags": []
   },
   "outputs": [
    {
     "data": {
      "application/vnd.jupyter.widget-view+json": {
       "model_id": "63e779bfb4c9489bac0ab463926e6409",
       "version_major": 2,
       "version_minor": 0
      },
      "text/plain": [
       "VBox()"
      ]
     },
     "metadata": {},
     "output_type": "display_data"
    },
    {
     "data": {
      "application/vnd.jupyter.widget-view+json": {
       "model_id": "",
       "version_major": 2,
       "version_minor": 0
      },
      "text/plain": [
       "FloatProgress(value=0.0, bar_style='info', description='Progress:', layout=Layout(height='25px', width='50%'),…"
      ]
     },
     "metadata": {},
     "output_type": "display_data"
    },
    {
     "name": "stdout",
     "output_type": "stream",
     "text": [
      "travelDistances: org.apache.spark.rdd.RDD[Int] = MapPartitionsRDD[341] at map at <console>:24\n",
      "res216: String = Range of distances: 97 to 4414\n",
      "res217: String = Avg travel distance: 1564.28\n"
     ]
    }
   ],
   "source": [
    "//7. Average and range of travel distance\n",
    "val travelDistances = rddFlightsCached.map(x => (x.id, x.segmentDistance)).reduceByKey(_+_).map(_._2)\n",
    "\"Range of distances: \"  + travelDistances.min + \" to \" + travelDistances.max\n",
    "\"Avg travel distance: \" + round((travelDistances.sum/numberOfRecords).toDouble)"
   ]
  },
  {
   "cell_type": "code",
   "execution_count": 101,
   "metadata": {
    "execution": {
     "iopub.execute_input": "2023-01-30T11:17:21.254788Z",
     "iopub.status.busy": "2023-01-30T11:17:21.254537Z",
     "iopub.status.idle": "2023-01-30T11:17:22.525620Z",
     "shell.execute_reply": "2023-01-30T11:17:22.524903Z",
     "shell.execute_reply.started": "2023-01-30T11:17:21.254760Z"
    },
    "tags": []
   },
   "outputs": [
    {
     "data": {
      "application/vnd.jupyter.widget-view+json": {
       "model_id": "297fe4ed0006453795821a0b2de55678",
       "version_major": 2,
       "version_minor": 0
      },
      "text/plain": [
       "VBox()"
      ]
     },
     "metadata": {},
     "output_type": "display_data"
    },
    {
     "data": {
      "application/vnd.jupyter.widget-view+json": {
       "model_id": "",
       "version_major": 2,
       "version_minor": 0
      },
      "text/plain": [
       "FloatProgress(value=0.0, bar_style='info', description='Progress:', layout=Layout(height='25px', width='50%'),…"
      ]
     },
     "metadata": {},
     "output_type": "display_data"
    },
    {
     "name": "stdout",
     "output_type": "stream",
     "text": [
      "LAX => 40093\n",
      "LGA => 34474\n",
      "MIA => 31056\n",
      "BOS => 30398\n",
      "DFW => 29718\n",
      "ORD => 29543\n",
      "CLT => 29287\n",
      "SFO => 29191\n",
      "ATL => 27818\n",
      "DEN => 27670\n",
      "topAirports: Unit = ()\n"
     ]
    }
   ],
   "source": [
    "//8. Top 10 airports with more arriving flights\n",
    "val topAirports = rddFlightsCached.\n",
    "    map(x => (x.id, x.destinationAirport)).\n",
    "    distinct().\n",
    "    map(m => (m._2, 1)).\n",
    "    reduceByKey(_+_).    \n",
    "    sortBy(_._2, false).\n",
    "    take(10).\n",
    "    foreach({case (name, value) => println(name + \" => \" + value)})"
   ]
  },
  {
   "cell_type": "markdown",
   "metadata": {},
   "source": [
    "## Main queries\n"
   ]
  },
  {
   "cell_type": "code",
   "execution_count": null,
   "metadata": {
    "tags": []
   },
   "outputs": [],
   "source": [
    "val path_output = \"s3a://\"+bucketname+\"/spark/avgRatPerMovie\" //todo"
   ]
  },
  {
   "cell_type": "markdown",
   "metadata": {},
   "source": [
    "### Riccardo\n",
    "\n",
    "> Riccardo: Aggrego su aeroporto di arrivo e di partenza, calcolando per ogni coppia un AVG dei prezzi dei biglietti. Join con dataset originale. Aggrego nuovamente sulla classificazione di prima e sulla distanza totale percorsa. Ottengo così per ogni tratta il prezzo medio e la distanza media percorsa."
   ]
  },
  {
   "cell_type": "code",
   "execution_count": null,
   "metadata": {
    "tags": []
   },
   "outputs": [],
   "source": [
    "// Query approfondita --> Riccardo\n",
    "\n",
    "// Prima aggregate poi Join\n",
    "val result = rddFlightsCached.\n",
    "    map(x => ((x.startingAirport, x.destinationAirport), (x.totalFare, 1))).\n",
    "    aggregateByKey((0.0,0.0))((a,v)=>(a._1+v._1, a._2+1),(a1,a2)=>(a1._1+a2._1,a1._2+a2._2)).\n",
    "    map({case (k,(sum,cnt)) => (k, (sum/cnt))}).\n",
    "    join(rddFlightsCached.map(x => ((x.startingAirport, x.destinationAirport), x.segmentDistance)).\n",
    "        aggregateByKey((0.0,0.0))((a,v)=>(a._1+v, a._2+1),(a1,a2)=>(a1._1+a2._1,a1._2+a2._2)).\n",
    "        map({case (k,(sum,cnt)) => (k, (sum/cnt))})).\n",
    "    sortByKey().\n",
    "    take(10).foreach(println)\n",
    "\n",
    "\n",
    "// Prima Join poi aggregate\n",
    "/*val result = rddFlightsCached.\n",
    "    map(x => ((x.startingAirport, x.destinationAirport), (x.totalFare, 1))).\n",
    "    aggregateByKey((0.0,0.0))((a,v)=>(a._1+v._1, a._2+1),(a1,a2)=>(a1._1+a2._1,a1._2+a2._2)).\n",
    "    map({case (k,(sum,cnt)) => (k, (sum/cnt))}).\n",
    "    join(rddFlightsCached.map(x => ((x.startingAirport, x.destinationAirport), x.segmentDistance))). //([startingAirport, arrivingAirport], [prezzo medio, distanza percorsa])\n",
    "    aggregateByKey((0.0,0.0,0.0))((a,v)=>(a._1+v._2, a._2+1, v._1),(a1,a2)=>(a1._1+a2._1,a1._2+a2._2,a1._2)).\n",
    "    map({case (k,(sum,cnt,avg)) => (k, (sum/cnt,avg))}).\n",
    "    map({case (k,(v1,v2)) => (k, (v2,v1))}).\n",
    "    sortByKey().\n",
    "    take(10).foreach(println)*/\n",
    "\n",
    "\n"
   ]
  },
  {
   "cell_type": "markdown",
   "metadata": {
    "execution": {
     "iopub.execute_input": "2023-01-26T17:47:01.300868Z",
     "iopub.status.busy": "2023-01-26T17:47:01.300635Z",
     "iopub.status.idle": "2023-01-26T17:47:01.561303Z",
     "shell.execute_reply": "2023-01-26T17:47:01.560507Z",
     "shell.execute_reply.started": "2023-01-26T17:47:01.300844Z"
    },
    "tags": []
   },
   "source": [
    "### Denys\n",
    "> Denys: aggrego su “aircraft model” per calcolare la “segment distance” totale percorsa da ogni modello, poi faccio self-join e aggregazione per determinare il “travel duration” per ogni “aircraft model”. Alla fine determino la velocità di ogni modello partendo dai dati aggregati."
   ]
  },
  {
   "cell_type": "code",
   "execution_count": null,
   "metadata": {
    "tags": []
   },
   "outputs": [],
   "source": [
    "rddFlightsCached.map(x => (x.airplaneType, x.segmentsDistance)).zipWithIndex.take(10)\n",
    "rddFlightsCached.map(x => (x.airplaneType, x.segmentsDuration)).zipWithIndex.take(10)"
   ]
  }
 ],
 "metadata": {
  "kernelspec": {
   "display_name": "Spark",
   "language": "scala",
   "name": "sparkkernel"
  },
  "language_info": {
   "codemirror_mode": "text/x-scala",
   "file_extension": ".sc",
   "mimetype": "text/x-scala",
   "name": "scala",
   "pygments_lexer": "scala"
  }
 },
 "nbformat": 4,
 "nbformat_minor": 4
}
