{
 "cells": [
  {
   "cell_type": "markdown",
   "metadata": {},
   "source": [
    "# Big Data Project"
   ]
  },
  {
   "cell_type": "markdown",
   "metadata": {},
   "source": [
    "## Configuration"
   ]
  },
  {
   "cell_type": "code",
   "execution_count": null,
   "metadata": {
    "tags": []
   },
   "outputs": [],
   "source": [
    "%%configure -f\n",
    "{\"executorMemory\":\"8G\", \"numExecutors\":2, \"executorCores\":3, \"conf\": {\"spark.dynamicAllocation.enabled\": \"false\"}}"
   ]
  },
  {
   "cell_type": "code",
   "execution_count": null,
   "metadata": {
    "tags": []
   },
   "outputs": [],
   "source": [
    "//Denys: val bucketname = \"unibo-bd2122-dgrushchak\"\n",
    "//Riccardo: val bucketname = \"unibo-bd2223-rbacca\"\n",
    "\n",
    "val bucketname = \"unibo-bd2223-rbacca\"\n",
    "\n",
    "//Denys: val path_flights_db = \"s3a://\"+bucketname+\"/project/small_file_10000000.txt\"\n",
    "//Riccardo:val path_flights_db = \"s3a://\"+bucketname+\"/bigdata-project/part_1.txt\"\n",
    "\n",
    "val path_flights_db = \"s3a://\"+bucketname+\"/bigdata-project/xaa\"\n",
    "\n",
    "sc.applicationId\n",
    "\n",
    "\"SPARK UI: Enable forwarding of port 20888 and connect to http://localhost:20888/proxy/\" + sc.applicationId + \"/\""
   ]
  },
  {
   "cell_type": "code",
   "execution_count": 118,
   "metadata": {
    "execution": {
     "iopub.execute_input": "2023-01-25T10:50:31.059796Z",
     "iopub.status.busy": "2023-01-25T10:50:31.059568Z",
     "iopub.status.idle": "2023-01-25T10:50:31.831564Z",
     "shell.execute_reply": "2023-01-25T10:50:31.830870Z",
     "shell.execute_reply.started": "2023-01-25T10:50:31.059773Z"
    },
    "tags": []
   },
   "outputs": [
    {
     "data": {
      "application/vnd.jupyter.widget-view+json": {
       "model_id": "6a8238173145423d9ce8f002b2def08b",
       "version_major": 2,
       "version_minor": 0
      },
      "text/plain": [
       "VBox()"
      ]
     },
     "metadata": {},
     "output_type": "display_data"
    },
    {
     "data": {
      "application/vnd.jupyter.widget-view+json": {
       "model_id": "",
       "version_major": 2,
       "version_minor": 0
      },
      "text/plain": [
       "FloatProgress(value=0.0, bar_style='info', description='Progress:', layout=Layout(height='25px', width='50%'),…"
      ]
     },
     "metadata": {},
     "output_type": "display_data"
    },
    {
     "name": "stdout",
     "output_type": "stream",
     "text": [
      "defined object Parser\n"
     ]
    }
   ],
   "source": [
    "object Parser{\n",
    "    val commaRegex = \",(?=(?:[^\\\"]*\\\"[^\\\"]*\\\")*[^\\\"]*$)\"\n",
    "    val doubleVerticalLine = \"\\\\|\\\\|\"\n",
    "    \n",
    "    val pipeRegex = \"\\\\|(?=(?:[^\\\"]*\\\"[^\\\"]*\\\")*[^\\\"]*$)\" // not used\n",
    "    val quotes = \"\\\"\" //not used\n",
    "   \n",
    "    \n",
    "    case class FlightData(\n",
    "        flightDate: String,          //1\n",
    "        startingAirport: String,     //2\n",
    "        destinationAirport: String,  //3\n",
    "        travelDuration: Long,        //4\n",
    "        airplaneType: Array[String], //5\n",
    "        airlineName: Array[String], //6\n",
    "        isNonStop: Boolean,          //7\n",
    "        isBasicEconomy: Boolean,     //8\n",
    "        totalFare: Double,           //9\n",
    "        segmentsDurationInSeconds: Array[Int]   //10\n",
    "    ){\n",
    "        def un() = FlightData.unapply(this).get\n",
    "    }\n",
    "    \n",
    "    def convertTravelDuration(value: String): Long = {\n",
    "        val input = value.replace(\"PT\", \"\")\n",
    "        val minutes = input.replace(\"M\", \"\").split(\"H\") //[2, 35]\n",
    "        \n",
    "        (minutes(0).trim.toLong)*60 + minutes(1).trim.toLong\n",
    "    }\n",
    "    \n",
    "    def convertAirplaneType(value: String): Array[String] = {\n",
    "        //Ex. Airbus A320||Boeing 737-800\n",
    "        val result = value.split(doubleVerticalLine)\n",
    "        if (result.head == \"\") Array.empty\n",
    "        else result\n",
    "    }\n",
    "    \n",
    "    def convertAirlineName(value: String): Array[String] = {\n",
    "        val result = value.split(doubleVerticalLine)\n",
    "        if (result.head == \"\") Array.empty\n",
    "        else result\n",
    "    }\n",
    "    \n",
    "    def convertSegmentsDuration(value: String): Array[Int] = {\n",
    "        val result = value.split(doubleVerticalLine)\n",
    "        if (result.head == \"\") Array.empty\n",
    "        else result.map(_.toInt)\n",
    "    }\n",
    "    \n",
    "     /**\n",
    "        2 - flightdate (String) ** x._1\n",
    "        3 - starting airport (String) ** x._2\n",
    "        4 - destination airport (String) ** x._3\n",
    "        6 - travel duration (PT2H35M) ** in minutes x._4\n",
    "        8 - isBasicEconomy (String) ** x._8\n",
    "        9 - isrefundable (boolean)\n",
    "        10 - isNonStop (String) ** x._7\n",
    "        12 - basefare (prezzo base del ticket in $ Double) ** x._9\n",
    "        12 - seats remaining (Int)\n",
    "        20 - airline name (company name) ** x._6\n",
    "        23 - airplane type (Vector of [String||String] ** x._5\n",
    "        25 - segment distance (distance in milles: Vector of [Int||Int]  can be [None||None])\n",
    "        24 - segments duration in seconds\n",
    "    **/\n",
    "    \n",
    "     def parseFlightInformationLine(line: String): Option[FlightData] = {\n",
    "        try {\n",
    "            val input = line.split(commaRegex)\n",
    "            \n",
    "            val airplanes = convertAirplaneType(input(23))\n",
    "            val airline = convertAirlineName(input(21))\n",
    "            val segmentsDuration = convertSegmentsDuration(input(24))\n",
    "\n",
    "            if (airplanes.isEmpty || airline.isEmpty || segmentsDuration.isEmpty) None\n",
    "            else Some(FlightData(input(2), input(3), input(4), convertTravelDuration(input(6)), airplanes, airline, input(10).toBoolean, input(8).toBoolean, input(12).toDouble, segmentsDuration))\n",
    "        } catch {\n",
    "            case _: Exception => None\n",
    "        }\n",
    "    }\n",
    "}"
   ]
  },
  {
   "cell_type": "code",
   "execution_count": null,
   "metadata": {
    "tags": []
   },
   "outputs": [],
   "source": [
    "sc.getPersistentRDDs.foreach(_._2.unpersist()) \n",
    "val rddFlights = sc.textFile(path_flights_db).flatMap(Parser.parseFlightInformationLine)\n",
    "val rddFlightsCached = rddFlights.cache()"
   ]
  },
  {
   "cell_type": "code",
   "execution_count": 120,
   "metadata": {
    "execution": {
     "iopub.execute_input": "2023-01-25T10:56:50.433941Z",
     "iopub.status.busy": "2023-01-25T10:56:50.433609Z",
     "iopub.status.idle": "2023-01-25T10:56:51.214801Z",
     "shell.execute_reply": "2023-01-25T10:56:51.214069Z",
     "shell.execute_reply.started": "2023-01-25T10:56:50.433903Z"
    },
    "tags": []
   },
   "outputs": [
    {
     "data": {
      "application/vnd.jupyter.widget-view+json": {
       "model_id": "8740b64fa91749f7aba9a29cc06e5392",
       "version_major": 2,
       "version_minor": 0
      },
      "text/plain": [
       "VBox()"
      ]
     },
     "metadata": {},
     "output_type": "display_data"
    },
    {
     "data": {
      "application/vnd.jupyter.widget-view+json": {
       "model_id": "",
       "version_major": 2,
       "version_minor": 0
      },
      "text/plain": [
       "FloatProgress(value=0.0, bar_style='info', description='Progress:', layout=Layout(height='25px', width='50%'),…"
      ]
     },
     "metadata": {},
     "output_type": "display_data"
    },
    {
     "name": "stdout",
     "output_type": "stream",
     "text": [
      "(2022-04-17,ATL,BOS,149,[Ljava.lang.String;@2e1a4f5b,[Ljava.lang.String;@4a582977,true,false,248.6)\n",
      "(2022-04-17,ATL,BOS,150,[Ljava.lang.String;@4ed2d357,[Ljava.lang.String;@38e2287,true,false,248.6)\n",
      "(2022-04-17,ATL,BOS,150,[Ljava.lang.String;@7f12d53a,[Ljava.lang.String;@748a483e,true,false,248.6)\n",
      "(2022-04-17,ATL,BOS,152,[Ljava.lang.String;@2c9a6593,[Ljava.lang.String;@5e72e09d,true,false,248.6)\n",
      "(2022-04-17,ATL,BOS,154,[Ljava.lang.String;@37a0556c,[Ljava.lang.String;@114d201e,true,false,248.6)\n",
      "(2022-04-17,ATL,BOS,252,[Ljava.lang.String;@6e046959,[Ljava.lang.String;@27bb0a0c,false,false,251.1)\n",
      "(2022-04-17,ATL,BOS,318,[Ljava.lang.String;@128530a2,[Ljava.lang.String;@6ab0af3c,false,false,251.1)\n",
      "(2022-04-17,ATL,BOS,332,[Ljava.lang.String;@27334d92,[Ljava.lang.String;@5827d812,false,false,251.1)\n",
      "(2022-04-17,ATL,BOS,398,[Ljava.lang.String;@631cf394,[Ljava.lang.String;@c3a7984,false,false,251.1)\n",
      "(2022-04-17,ATL,BOS,286,[Ljava.lang.String;@3158ea4c,[Ljava.lang.String;@57d9533d,false,false,252.6)\n",
      "round: (v: Double)Double\n",
      "numberOfRecords: Long = 2626\n"
     ]
    }
   ],
   "source": [
    "rddFlightsCached.map(_.un()).take(10).foreach(println)\n",
    "\n",
    "\n",
    "def round(v: Double): Double = {\n",
    "    (v*100).toInt/100.toDouble\n",
    "}\n",
    "\n",
    "val numberOfRecords = rddFlightsCached.filter(x => x.isNonStop).count"
   ]
  },
  {
   "cell_type": "markdown",
   "metadata": {},
   "source": [
    "## Explorative queries\n",
    "\n",
    "1. How many distinct airports and aircraft models\n",
    "2. Average travel duration for airline, only in non-stop flights\n",
    "3. Percentage of basic economy tickets, based on all tickets\n",
    "4. Percentage of non-stop flights (flights with one leg)\n",
    "5. Average and price range of tickets\n",
    "6. Average ticket price for each airline\n",
    "7. Average and range of travel distance\n",
    "8. Top 10 airports with more arriving flights\n"
   ]
  },
  {
   "cell_type": "code",
   "execution_count": null,
   "metadata": {
    "tags": []
   },
   "outputs": [],
   "source": [
    "//1.How many distinct airports and aircraft models\n",
    "val distinctAirports = rddFlightsCached.\n",
    "    map(x => x.startingAirport).\n",
    "    distinct.union(\n",
    "        rddFlightsCached.map(x => x.destinationAirport).distinct).\n",
    "    distinct.count\n",
    "val distinctAircraftModels = rddFlightsCached.flatMap(x => x.airplaneType).distinct.count"
   ]
  },
  {
   "cell_type": "code",
   "execution_count": null,
   "metadata": {
    "tags": []
   },
   "outputs": [],
   "source": [
    "//2. Average travel duration for each airline, in non stop flights\n",
    "val distinctAirlines = rddFlightsCached.\n",
    "    filter(x => x.isNonStop).\n",
    "    map(x => (x.airlineName(0), x.travelDuration)).\n",
    "    aggregateByKey((0.0, 0.0))((a,v)=>(a._1+v, a._2+1), (a1,a2)=>(a1._1+a2._1, a1._2+a2._2)).\n",
    "    map({case(k,v)=>(k,v._1/v._2)}).\n",
    "    collect().\n",
    "    foreach({case (airline, value) => println(airline + \" => \" + round(value) + \" avg minutes\")})"
   ]
  },
  {
   "cell_type": "code",
   "execution_count": null,
   "metadata": {
    "tags": []
   },
   "outputs": [],
   "source": [
    "//3. Percentage of basic economy tickets, based on all tickets\n",
    "round((rddFlightsCached.filter(_.isBasicEconomy).count.toDouble/numberOfRecords).toDouble*100) + \" %\""
   ]
  },
  {
   "cell_type": "code",
   "execution_count": null,
   "metadata": {
    "tags": []
   },
   "outputs": [],
   "source": [
    "//4. Percentage of non-stop flights (flights with one leg)\n",
    "round((rddFlightsCached.filter(_.isNonStop).count.toDouble/numberOfRecords).toDouble*100) + \" %\""
   ]
  },
  {
   "cell_type": "code",
   "execution_count": null,
   "metadata": {
    "tags": []
   },
   "outputs": [],
   "source": [
    "//5. Average and price range of tickets\n",
    "val ticketPrices = rddFlightsCached.map(x => x.totalFare) // TODO with all dataset try performance with and without a cache\n",
    "\"Range of prices: \"  + ticketPrices.min + \" to \" + ticketPrices.max\n",
    "\"Avg price: \" + round((ticketPrices.sum/numberOfRecords).toDouble)"
   ]
  },
  {
   "cell_type": "code",
   "execution_count": null,
   "metadata": {
    "tags": []
   },
   "outputs": [],
   "source": [
    "//6. Average ticket price for each airline\n",
    "val avgTicketPricePerAirline = rddFlightsCached.\n",
    "    filter(_.isNonStop).\n",
    "    map(x => (x.airlineName(0),(x.totalFare, 1))).\n",
    "    reduceByKey((a,b) => (a._1+b._1, a._2+b._2)).\n",
    "    map(m => (m._1,m._2._1/m._2._2)).\n",
    "    collect.foreach({case (name, value) => println(name + \" => \" + round(value))})"
   ]
  },
  {
   "cell_type": "code",
   "execution_count": null,
   "metadata": {},
   "outputs": [],
   "source": [
    "//7. Average and range of travel distance"
   ]
  },
  {
   "cell_type": "code",
   "execution_count": null,
   "metadata": {
    "tags": []
   },
   "outputs": [],
   "source": [
    "//8. Top 10 airports with more arriving flights\n",
    "val topAirports = rddFlightsCached.\n",
    "    map(x => (x.destinationAirport, 1)).\n",
    "    reduceByKey(_+_).\n",
    "    sortBy(_._2, false).\n",
    "    take(10).\n",
    "    foreach({case (name, value) => println(name + \" => \" + value)})"
   ]
  },
  {
   "cell_type": "markdown",
   "metadata": {},
   "source": [
    "**Query approfondite:**\n",
    "\n",
    "- Denys: aggrego su “aircraft model” per calcolare la “travel distance” totale percorsa da ogni modello, poi faccio self-join e aggregazione per determinare il “travel duration” per ogni “aircraft model”. Alla fine determino la velocità di ogni modello partendo dai dati aggregati.\n",
    "- Riccardo: aggrego su “aircraft models” per calcolare la classifica discreta dei modelli più usati rispetto a ciascuna “airline”. Eseguo il join col dataset originale, infine riaggrego su “travel duration” e sulla classificazione di prima. Ottengo la durata di media di ogni volo per ogni compagnia (oltre a numero di voli e totale di ore) sul modello di aereo più utilizzato"
   ]
  },
  {
   "cell_type": "code",
   "execution_count": 119,
   "metadata": {
    "execution": {
     "iopub.execute_input": "2023-01-25T10:51:14.185149Z",
     "iopub.status.busy": "2023-01-25T10:51:14.184928Z",
     "iopub.status.idle": "2023-01-25T10:51:15.457315Z",
     "shell.execute_reply": "2023-01-25T10:51:15.456462Z",
     "shell.execute_reply.started": "2023-01-25T10:51:14.185123Z"
    },
    "tags": []
   },
   "outputs": [
    {
     "data": {
      "application/vnd.jupyter.widget-view+json": {
       "model_id": "a86a32f8be8c41289759ac2db7b413a6",
       "version_major": 2,
       "version_minor": 0
      },
      "text/plain": [
       "VBox()"
      ]
     },
     "metadata": {},
     "output_type": "display_data"
    },
    {
     "data": {
      "application/vnd.jupyter.widget-view+json": {
       "model_id": "",
       "version_major": 2,
       "version_minor": 0
      },
      "text/plain": [
       "FloatProgress(value=0.0, bar_style='info', description='Progress:', layout=Layout(height='25px', width='50%'),…"
      ]
     },
     "metadata": {},
     "output_type": "display_data"
    },
    {
     "name": "stdout",
     "output_type": "stream",
     "text": [
      "zippedRdd: org.apache.spark.rdd.RDD[((Array[String], Array[String]), Long)] = ZippedWithIndexRDD[545] at zipWithIndex at <console>:25\n",
      "aircraft: org.apache.spark.rdd.RDD[((Long, Int), String)] = MapPartitionsRDD[548] at map at <console>:23\n",
      "airlines: org.apache.spark.rdd.RDD[((Long, Int), String)] = MapPartitionsRDD[551] at map at <console>:23\n",
      "((United,Embraer 175 (Enhanced Winglets)),970)\n",
      "((United,Boeing 737-800),581)\n",
      "((United,Airbus A319),571)\n",
      "((United,Boeing 737-900),551)\n",
      "((United,Boeing 737 MAX 9),317)\n",
      "((United,Airbus A320),298)\n",
      "((United,Embraer 170),261)\n",
      "((United,Boeing 737-700),154)\n",
      "((United,Boeing 757-300),94)\n",
      "((United,Boeing 757-200),85)\n",
      "mostUsedModelForAirline: Unit = ()\n"
     ]
    }
   ],
   "source": [
    "// Query approfondita --> Riccardo\n",
    "\n",
    "val zippedRdd = rddFlightsCached.map(x => (x.airplaneType, x.airlineName)).zipWithIndex()\n",
    "val aircraft = zippedRdd.map(x => (x._2, x._1._1.zipWithIndex)).flatMapValues(x => x).map(x => ((x._1, x._2._2), x._2._1))\n",
    "val airlines = zippedRdd.map(x => (x._2, x._1._2.zipWithIndex)).flatMapValues(x => x).map(x => ((x._1, x._2._2), x._2._1)) \n",
    "\n",
    "val mostUsedModelForAirline = aircraft.join(airlines).map(x => ((x._2._2, x._2._1), 1)).reduceByKey(_+_).sortBy(s => (s._1._1, s._2), false).take(10).foreach(println)\n",
    "\n",
    "val joinedWithOriginal = mostUsedModelForAirline.join(rddFlightsCached)\n"
   ]
  },
  {
   "cell_type": "code",
   "execution_count": null,
   "metadata": {
    "tags": []
   },
   "outputs": [],
   "source": [
    "val path_output = \"s3a://\"+bucketname+\"/spark/avgRatPerMovie\" //todo"
   ]
  }
 ],
 "metadata": {
  "kernelspec": {
   "display_name": "Spark",
   "language": "scala",
   "name": "sparkkernel"
  },
  "language_info": {
   "codemirror_mode": "text/x-scala",
   "file_extension": ".sc",
   "mimetype": "text/x-scala",
   "name": "scala",
   "pygments_lexer": "scala"
  }
 },
 "nbformat": 4,
 "nbformat_minor": 4
}
